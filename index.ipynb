{
 "cells": [
  {
   "cell_type": "markdown",
   "metadata": {},
   "source": [
    "# Project - Data Cleaning\n",
    "\n",
    "## Introduction\n",
    "In this lab, we'll make use of everything we've learned about pandas, data cleaning, and exploratory data analysis. In order to complete this lab, you'll have to import, clean, combine, reshape, and visualize data to answer questions provided, as well as your own questions!\n",
    "\n",
    "## Objectives\n",
    "You will be able to:\n",
    "- Use different types of joins to merge DataFrames \n",
    "- Identify missing values in a dataframe using built-in methods \n",
    "- Evaluate and execute the best strategy for dealing with missing, duplicate, and erroneous values for a given dataset \n",
    "- Inspect data for duplicates or extraneous values and remove them \n",
    "\n",
    "\n",
    "## The dataset\n",
    "In this lab, we'll work with the comprehensive [Super Heroes Dataset](https://www.kaggle.com/claudiodavi/superhero-set/data), which can be found on Kaggle!\n",
    "\n",
    "\n",
    "## Getting Started\n",
    "\n",
    "In the cell below:\n",
    "\n",
    "* Import and alias pandas as `pd`\n",
    "* Import and alias numpy as `np`\n",
    "* Import and alias seaborn as `sns`\n",
    "* Import and alias matplotlib.pyplot as `plt`\n",
    "* Set matplotlib visualizations to display inline in the notebook"
   ]
  },
  {
   "cell_type": "code",
   "execution_count": 1,
   "metadata": {
    "scrolled": false
   },
   "outputs": [],
   "source": [
    "import pandas as pd\n",
    "import numpy as np\n",
    "import seaborn as sns\n",
    "import matplotlib.pyplot as plt\n",
    "%matplotlib inline"
   ]
  },
  {
   "cell_type": "markdown",
   "metadata": {},
   "source": [
    "For this lab, our dataset is split among two different sources -- `'heroes_information.csv'` and `'super_hero_powers.csv'`.\n",
    "\n",
    "Use pandas to read in each file and store them in DataFrames in the appropriate variables below. Then, display the `.head()` of each to ensure that everything loaded correctly.  "
   ]
  },
  {
   "cell_type": "code",
   "execution_count": 2,
   "metadata": {
    "scrolled": false
   },
   "outputs": [],
   "source": [
    "heroes_df = pd.read_csv('heroes_information.csv')\n",
    "powers_df = pd.read_csv('super_hero_powers.csv')"
   ]
  },
  {
   "cell_type": "markdown",
   "metadata": {},
   "source": [
    "It looks as if the heroes information dataset contained an index column.  We did not specify that this dataset contained an index column, because we hadn't seen it yet. Pandas does not know how to tell apart an index column from any other data, so it stored it with the column name `Unnamed: 0`.  \n",
    "\n",
    "Our DataFrame provided row indices by default, so this column is not needed.  Drop it from the DataFrame in place in the cell below, and then display the head of `heroes_df` to ensure that it worked properly. "
   ]
  },
  {
   "cell_type": "code",
   "execution_count": 3,
   "metadata": {
    "scrolled": false
   },
   "outputs": [],
   "source": [
    "#drop the 'Unnamed:0' column\n",
    "heroes_df.drop(columns='Unnamed: 0', inplace=True)"
   ]
  },
  {
   "cell_type": "code",
   "execution_count": 4,
   "metadata": {
    "scrolled": false
   },
   "outputs": [
    {
     "data": {
      "text/html": [
       "<div>\n",
       "<style scoped>\n",
       "    .dataframe tbody tr th:only-of-type {\n",
       "        vertical-align: middle;\n",
       "    }\n",
       "\n",
       "    .dataframe tbody tr th {\n",
       "        vertical-align: top;\n",
       "    }\n",
       "\n",
       "    .dataframe thead th {\n",
       "        text-align: right;\n",
       "    }\n",
       "</style>\n",
       "<table border=\"1\" class=\"dataframe\">\n",
       "  <thead>\n",
       "    <tr style=\"text-align: right;\">\n",
       "      <th></th>\n",
       "      <th>name</th>\n",
       "      <th>Gender</th>\n",
       "      <th>Eye color</th>\n",
       "      <th>Race</th>\n",
       "      <th>Hair color</th>\n",
       "      <th>Height</th>\n",
       "      <th>Publisher</th>\n",
       "      <th>Skin color</th>\n",
       "      <th>Alignment</th>\n",
       "      <th>Weight</th>\n",
       "    </tr>\n",
       "  </thead>\n",
       "  <tbody>\n",
       "    <tr>\n",
       "      <td>0</td>\n",
       "      <td>A-Bomb</td>\n",
       "      <td>Male</td>\n",
       "      <td>yellow</td>\n",
       "      <td>Human</td>\n",
       "      <td>No Hair</td>\n",
       "      <td>203.0</td>\n",
       "      <td>Marvel Comics</td>\n",
       "      <td>-</td>\n",
       "      <td>good</td>\n",
       "      <td>441.0</td>\n",
       "    </tr>\n",
       "    <tr>\n",
       "      <td>1</td>\n",
       "      <td>Abe Sapien</td>\n",
       "      <td>Male</td>\n",
       "      <td>blue</td>\n",
       "      <td>Icthyo Sapien</td>\n",
       "      <td>No Hair</td>\n",
       "      <td>191.0</td>\n",
       "      <td>Dark Horse Comics</td>\n",
       "      <td>blue</td>\n",
       "      <td>good</td>\n",
       "      <td>65.0</td>\n",
       "    </tr>\n",
       "    <tr>\n",
       "      <td>2</td>\n",
       "      <td>Abin Sur</td>\n",
       "      <td>Male</td>\n",
       "      <td>blue</td>\n",
       "      <td>Ungaran</td>\n",
       "      <td>No Hair</td>\n",
       "      <td>185.0</td>\n",
       "      <td>DC Comics</td>\n",
       "      <td>red</td>\n",
       "      <td>good</td>\n",
       "      <td>90.0</td>\n",
       "    </tr>\n",
       "    <tr>\n",
       "      <td>3</td>\n",
       "      <td>Abomination</td>\n",
       "      <td>Male</td>\n",
       "      <td>green</td>\n",
       "      <td>Human / Radiation</td>\n",
       "      <td>No Hair</td>\n",
       "      <td>203.0</td>\n",
       "      <td>Marvel Comics</td>\n",
       "      <td>-</td>\n",
       "      <td>bad</td>\n",
       "      <td>441.0</td>\n",
       "    </tr>\n",
       "    <tr>\n",
       "      <td>4</td>\n",
       "      <td>Abraxas</td>\n",
       "      <td>Male</td>\n",
       "      <td>blue</td>\n",
       "      <td>Cosmic Entity</td>\n",
       "      <td>Black</td>\n",
       "      <td>-99.0</td>\n",
       "      <td>Marvel Comics</td>\n",
       "      <td>-</td>\n",
       "      <td>bad</td>\n",
       "      <td>-99.0</td>\n",
       "    </tr>\n",
       "    <tr>\n",
       "      <td>...</td>\n",
       "      <td>...</td>\n",
       "      <td>...</td>\n",
       "      <td>...</td>\n",
       "      <td>...</td>\n",
       "      <td>...</td>\n",
       "      <td>...</td>\n",
       "      <td>...</td>\n",
       "      <td>...</td>\n",
       "      <td>...</td>\n",
       "      <td>...</td>\n",
       "    </tr>\n",
       "    <tr>\n",
       "      <td>729</td>\n",
       "      <td>Yellowjacket II</td>\n",
       "      <td>Female</td>\n",
       "      <td>blue</td>\n",
       "      <td>Human</td>\n",
       "      <td>Strawberry Blond</td>\n",
       "      <td>165.0</td>\n",
       "      <td>Marvel Comics</td>\n",
       "      <td>-</td>\n",
       "      <td>good</td>\n",
       "      <td>52.0</td>\n",
       "    </tr>\n",
       "    <tr>\n",
       "      <td>730</td>\n",
       "      <td>Ymir</td>\n",
       "      <td>Male</td>\n",
       "      <td>white</td>\n",
       "      <td>Frost Giant</td>\n",
       "      <td>No Hair</td>\n",
       "      <td>304.8</td>\n",
       "      <td>Marvel Comics</td>\n",
       "      <td>white</td>\n",
       "      <td>good</td>\n",
       "      <td>-99.0</td>\n",
       "    </tr>\n",
       "    <tr>\n",
       "      <td>731</td>\n",
       "      <td>Yoda</td>\n",
       "      <td>Male</td>\n",
       "      <td>brown</td>\n",
       "      <td>Yoda's species</td>\n",
       "      <td>White</td>\n",
       "      <td>66.0</td>\n",
       "      <td>George Lucas</td>\n",
       "      <td>green</td>\n",
       "      <td>good</td>\n",
       "      <td>17.0</td>\n",
       "    </tr>\n",
       "    <tr>\n",
       "      <td>732</td>\n",
       "      <td>Zatanna</td>\n",
       "      <td>Female</td>\n",
       "      <td>blue</td>\n",
       "      <td>Human</td>\n",
       "      <td>Black</td>\n",
       "      <td>170.0</td>\n",
       "      <td>DC Comics</td>\n",
       "      <td>-</td>\n",
       "      <td>good</td>\n",
       "      <td>57.0</td>\n",
       "    </tr>\n",
       "    <tr>\n",
       "      <td>733</td>\n",
       "      <td>Zoom</td>\n",
       "      <td>Male</td>\n",
       "      <td>red</td>\n",
       "      <td>-</td>\n",
       "      <td>Brown</td>\n",
       "      <td>185.0</td>\n",
       "      <td>DC Comics</td>\n",
       "      <td>-</td>\n",
       "      <td>bad</td>\n",
       "      <td>81.0</td>\n",
       "    </tr>\n",
       "  </tbody>\n",
       "</table>\n",
       "<p>734 rows × 10 columns</p>\n",
       "</div>"
      ],
      "text/plain": [
       "                name  Gender Eye color               Race        Hair color  \\\n",
       "0             A-Bomb    Male    yellow              Human           No Hair   \n",
       "1         Abe Sapien    Male      blue      Icthyo Sapien           No Hair   \n",
       "2           Abin Sur    Male      blue            Ungaran           No Hair   \n",
       "3        Abomination    Male     green  Human / Radiation           No Hair   \n",
       "4            Abraxas    Male      blue      Cosmic Entity             Black   \n",
       "..               ...     ...       ...                ...               ...   \n",
       "729  Yellowjacket II  Female      blue              Human  Strawberry Blond   \n",
       "730             Ymir    Male     white        Frost Giant           No Hair   \n",
       "731             Yoda    Male     brown     Yoda's species             White   \n",
       "732          Zatanna  Female      blue              Human             Black   \n",
       "733             Zoom    Male       red                  -             Brown   \n",
       "\n",
       "     Height          Publisher Skin color Alignment  Weight  \n",
       "0     203.0      Marvel Comics          -      good   441.0  \n",
       "1     191.0  Dark Horse Comics       blue      good    65.0  \n",
       "2     185.0          DC Comics        red      good    90.0  \n",
       "3     203.0      Marvel Comics          -       bad   441.0  \n",
       "4     -99.0      Marvel Comics          -       bad   -99.0  \n",
       "..      ...                ...        ...       ...     ...  \n",
       "729   165.0      Marvel Comics          -      good    52.0  \n",
       "730   304.8      Marvel Comics      white      good   -99.0  \n",
       "731    66.0       George Lucas      green      good    17.0  \n",
       "732   170.0          DC Comics          -      good    57.0  \n",
       "733   185.0          DC Comics          -       bad    81.0  \n",
       "\n",
       "[734 rows x 10 columns]"
      ]
     },
     "execution_count": 4,
     "metadata": {},
     "output_type": "execute_result"
    }
   ],
   "source": [
    "heroes_df"
   ]
  },
  {
   "cell_type": "code",
   "execution_count": 5,
   "metadata": {
    "scrolled": false
   },
   "outputs": [
    {
     "data": {
      "text/html": [
       "<div>\n",
       "<style scoped>\n",
       "    .dataframe tbody tr th:only-of-type {\n",
       "        vertical-align: middle;\n",
       "    }\n",
       "\n",
       "    .dataframe tbody tr th {\n",
       "        vertical-align: top;\n",
       "    }\n",
       "\n",
       "    .dataframe thead th {\n",
       "        text-align: right;\n",
       "    }\n",
       "</style>\n",
       "<table border=\"1\" class=\"dataframe\">\n",
       "  <thead>\n",
       "    <tr style=\"text-align: right;\">\n",
       "      <th></th>\n",
       "      <th>hero_names</th>\n",
       "      <th>Agility</th>\n",
       "      <th>Accelerated Healing</th>\n",
       "      <th>Lantern Power Ring</th>\n",
       "      <th>Dimensional Awareness</th>\n",
       "      <th>Cold Resistance</th>\n",
       "      <th>Durability</th>\n",
       "      <th>Stealth</th>\n",
       "      <th>Energy Absorption</th>\n",
       "      <th>Flight</th>\n",
       "      <th>...</th>\n",
       "      <th>Web Creation</th>\n",
       "      <th>Reality Warping</th>\n",
       "      <th>Odin Force</th>\n",
       "      <th>Symbiote Costume</th>\n",
       "      <th>Speed Force</th>\n",
       "      <th>Phoenix Force</th>\n",
       "      <th>Molecular Dissipation</th>\n",
       "      <th>Vision - Cryo</th>\n",
       "      <th>Omnipresent</th>\n",
       "      <th>Omniscient</th>\n",
       "    </tr>\n",
       "  </thead>\n",
       "  <tbody>\n",
       "    <tr>\n",
       "      <td>0</td>\n",
       "      <td>3-D Man</td>\n",
       "      <td>True</td>\n",
       "      <td>False</td>\n",
       "      <td>False</td>\n",
       "      <td>False</td>\n",
       "      <td>False</td>\n",
       "      <td>False</td>\n",
       "      <td>False</td>\n",
       "      <td>False</td>\n",
       "      <td>False</td>\n",
       "      <td>...</td>\n",
       "      <td>False</td>\n",
       "      <td>False</td>\n",
       "      <td>False</td>\n",
       "      <td>False</td>\n",
       "      <td>False</td>\n",
       "      <td>False</td>\n",
       "      <td>False</td>\n",
       "      <td>False</td>\n",
       "      <td>False</td>\n",
       "      <td>False</td>\n",
       "    </tr>\n",
       "    <tr>\n",
       "      <td>1</td>\n",
       "      <td>A-Bomb</td>\n",
       "      <td>False</td>\n",
       "      <td>True</td>\n",
       "      <td>False</td>\n",
       "      <td>False</td>\n",
       "      <td>False</td>\n",
       "      <td>True</td>\n",
       "      <td>False</td>\n",
       "      <td>False</td>\n",
       "      <td>False</td>\n",
       "      <td>...</td>\n",
       "      <td>False</td>\n",
       "      <td>False</td>\n",
       "      <td>False</td>\n",
       "      <td>False</td>\n",
       "      <td>False</td>\n",
       "      <td>False</td>\n",
       "      <td>False</td>\n",
       "      <td>False</td>\n",
       "      <td>False</td>\n",
       "      <td>False</td>\n",
       "    </tr>\n",
       "    <tr>\n",
       "      <td>2</td>\n",
       "      <td>Abe Sapien</td>\n",
       "      <td>True</td>\n",
       "      <td>True</td>\n",
       "      <td>False</td>\n",
       "      <td>False</td>\n",
       "      <td>True</td>\n",
       "      <td>True</td>\n",
       "      <td>False</td>\n",
       "      <td>False</td>\n",
       "      <td>False</td>\n",
       "      <td>...</td>\n",
       "      <td>False</td>\n",
       "      <td>False</td>\n",
       "      <td>False</td>\n",
       "      <td>False</td>\n",
       "      <td>False</td>\n",
       "      <td>False</td>\n",
       "      <td>False</td>\n",
       "      <td>False</td>\n",
       "      <td>False</td>\n",
       "      <td>False</td>\n",
       "    </tr>\n",
       "    <tr>\n",
       "      <td>3</td>\n",
       "      <td>Abin Sur</td>\n",
       "      <td>False</td>\n",
       "      <td>False</td>\n",
       "      <td>True</td>\n",
       "      <td>False</td>\n",
       "      <td>False</td>\n",
       "      <td>False</td>\n",
       "      <td>False</td>\n",
       "      <td>False</td>\n",
       "      <td>False</td>\n",
       "      <td>...</td>\n",
       "      <td>False</td>\n",
       "      <td>False</td>\n",
       "      <td>False</td>\n",
       "      <td>False</td>\n",
       "      <td>False</td>\n",
       "      <td>False</td>\n",
       "      <td>False</td>\n",
       "      <td>False</td>\n",
       "      <td>False</td>\n",
       "      <td>False</td>\n",
       "    </tr>\n",
       "    <tr>\n",
       "      <td>4</td>\n",
       "      <td>Abomination</td>\n",
       "      <td>False</td>\n",
       "      <td>True</td>\n",
       "      <td>False</td>\n",
       "      <td>False</td>\n",
       "      <td>False</td>\n",
       "      <td>False</td>\n",
       "      <td>False</td>\n",
       "      <td>False</td>\n",
       "      <td>False</td>\n",
       "      <td>...</td>\n",
       "      <td>False</td>\n",
       "      <td>False</td>\n",
       "      <td>False</td>\n",
       "      <td>False</td>\n",
       "      <td>False</td>\n",
       "      <td>False</td>\n",
       "      <td>False</td>\n",
       "      <td>False</td>\n",
       "      <td>False</td>\n",
       "      <td>False</td>\n",
       "    </tr>\n",
       "    <tr>\n",
       "      <td>...</td>\n",
       "      <td>...</td>\n",
       "      <td>...</td>\n",
       "      <td>...</td>\n",
       "      <td>...</td>\n",
       "      <td>...</td>\n",
       "      <td>...</td>\n",
       "      <td>...</td>\n",
       "      <td>...</td>\n",
       "      <td>...</td>\n",
       "      <td>...</td>\n",
       "      <td>...</td>\n",
       "      <td>...</td>\n",
       "      <td>...</td>\n",
       "      <td>...</td>\n",
       "      <td>...</td>\n",
       "      <td>...</td>\n",
       "      <td>...</td>\n",
       "      <td>...</td>\n",
       "      <td>...</td>\n",
       "      <td>...</td>\n",
       "      <td>...</td>\n",
       "    </tr>\n",
       "    <tr>\n",
       "      <td>662</td>\n",
       "      <td>Yellowjacket II</td>\n",
       "      <td>False</td>\n",
       "      <td>False</td>\n",
       "      <td>False</td>\n",
       "      <td>False</td>\n",
       "      <td>False</td>\n",
       "      <td>False</td>\n",
       "      <td>False</td>\n",
       "      <td>False</td>\n",
       "      <td>True</td>\n",
       "      <td>...</td>\n",
       "      <td>False</td>\n",
       "      <td>False</td>\n",
       "      <td>False</td>\n",
       "      <td>False</td>\n",
       "      <td>False</td>\n",
       "      <td>False</td>\n",
       "      <td>False</td>\n",
       "      <td>False</td>\n",
       "      <td>False</td>\n",
       "      <td>False</td>\n",
       "    </tr>\n",
       "    <tr>\n",
       "      <td>663</td>\n",
       "      <td>Ymir</td>\n",
       "      <td>False</td>\n",
       "      <td>False</td>\n",
       "      <td>False</td>\n",
       "      <td>False</td>\n",
       "      <td>True</td>\n",
       "      <td>True</td>\n",
       "      <td>False</td>\n",
       "      <td>False</td>\n",
       "      <td>False</td>\n",
       "      <td>...</td>\n",
       "      <td>False</td>\n",
       "      <td>False</td>\n",
       "      <td>False</td>\n",
       "      <td>False</td>\n",
       "      <td>False</td>\n",
       "      <td>False</td>\n",
       "      <td>False</td>\n",
       "      <td>False</td>\n",
       "      <td>False</td>\n",
       "      <td>False</td>\n",
       "    </tr>\n",
       "    <tr>\n",
       "      <td>664</td>\n",
       "      <td>Yoda</td>\n",
       "      <td>True</td>\n",
       "      <td>False</td>\n",
       "      <td>False</td>\n",
       "      <td>False</td>\n",
       "      <td>False</td>\n",
       "      <td>False</td>\n",
       "      <td>True</td>\n",
       "      <td>False</td>\n",
       "      <td>False</td>\n",
       "      <td>...</td>\n",
       "      <td>False</td>\n",
       "      <td>False</td>\n",
       "      <td>False</td>\n",
       "      <td>False</td>\n",
       "      <td>False</td>\n",
       "      <td>False</td>\n",
       "      <td>False</td>\n",
       "      <td>False</td>\n",
       "      <td>False</td>\n",
       "      <td>False</td>\n",
       "    </tr>\n",
       "    <tr>\n",
       "      <td>665</td>\n",
       "      <td>Zatanna</td>\n",
       "      <td>False</td>\n",
       "      <td>False</td>\n",
       "      <td>False</td>\n",
       "      <td>False</td>\n",
       "      <td>False</td>\n",
       "      <td>False</td>\n",
       "      <td>False</td>\n",
       "      <td>False</td>\n",
       "      <td>False</td>\n",
       "      <td>...</td>\n",
       "      <td>False</td>\n",
       "      <td>False</td>\n",
       "      <td>False</td>\n",
       "      <td>False</td>\n",
       "      <td>False</td>\n",
       "      <td>False</td>\n",
       "      <td>False</td>\n",
       "      <td>False</td>\n",
       "      <td>False</td>\n",
       "      <td>False</td>\n",
       "    </tr>\n",
       "    <tr>\n",
       "      <td>666</td>\n",
       "      <td>Zoom</td>\n",
       "      <td>False</td>\n",
       "      <td>False</td>\n",
       "      <td>False</td>\n",
       "      <td>False</td>\n",
       "      <td>False</td>\n",
       "      <td>False</td>\n",
       "      <td>False</td>\n",
       "      <td>False</td>\n",
       "      <td>False</td>\n",
       "      <td>...</td>\n",
       "      <td>False</td>\n",
       "      <td>False</td>\n",
       "      <td>False</td>\n",
       "      <td>False</td>\n",
       "      <td>False</td>\n",
       "      <td>False</td>\n",
       "      <td>False</td>\n",
       "      <td>False</td>\n",
       "      <td>False</td>\n",
       "      <td>False</td>\n",
       "    </tr>\n",
       "  </tbody>\n",
       "</table>\n",
       "<p>667 rows × 168 columns</p>\n",
       "</div>"
      ],
      "text/plain": [
       "          hero_names  Agility  Accelerated Healing  Lantern Power Ring  \\\n",
       "0            3-D Man     True                False               False   \n",
       "1             A-Bomb    False                 True               False   \n",
       "2         Abe Sapien     True                 True               False   \n",
       "3           Abin Sur    False                False                True   \n",
       "4        Abomination    False                 True               False   \n",
       "..               ...      ...                  ...                 ...   \n",
       "662  Yellowjacket II    False                False               False   \n",
       "663             Ymir    False                False               False   \n",
       "664             Yoda     True                False               False   \n",
       "665          Zatanna    False                False               False   \n",
       "666             Zoom    False                False               False   \n",
       "\n",
       "     Dimensional Awareness  Cold Resistance  Durability  Stealth  \\\n",
       "0                    False            False       False    False   \n",
       "1                    False            False        True    False   \n",
       "2                    False             True        True    False   \n",
       "3                    False            False       False    False   \n",
       "4                    False            False       False    False   \n",
       "..                     ...              ...         ...      ...   \n",
       "662                  False            False       False    False   \n",
       "663                  False             True        True    False   \n",
       "664                  False            False       False     True   \n",
       "665                  False            False       False    False   \n",
       "666                  False            False       False    False   \n",
       "\n",
       "     Energy Absorption  Flight  ...  Web Creation  Reality Warping  \\\n",
       "0                False   False  ...         False            False   \n",
       "1                False   False  ...         False            False   \n",
       "2                False   False  ...         False            False   \n",
       "3                False   False  ...         False            False   \n",
       "4                False   False  ...         False            False   \n",
       "..                 ...     ...  ...           ...              ...   \n",
       "662              False    True  ...         False            False   \n",
       "663              False   False  ...         False            False   \n",
       "664              False   False  ...         False            False   \n",
       "665              False   False  ...         False            False   \n",
       "666              False   False  ...         False            False   \n",
       "\n",
       "     Odin Force  Symbiote Costume  Speed Force  Phoenix Force  \\\n",
       "0         False             False        False          False   \n",
       "1         False             False        False          False   \n",
       "2         False             False        False          False   \n",
       "3         False             False        False          False   \n",
       "4         False             False        False          False   \n",
       "..          ...               ...          ...            ...   \n",
       "662       False             False        False          False   \n",
       "663       False             False        False          False   \n",
       "664       False             False        False          False   \n",
       "665       False             False        False          False   \n",
       "666       False             False        False          False   \n",
       "\n",
       "     Molecular Dissipation  Vision - Cryo  Omnipresent  Omniscient  \n",
       "0                    False          False        False       False  \n",
       "1                    False          False        False       False  \n",
       "2                    False          False        False       False  \n",
       "3                    False          False        False       False  \n",
       "4                    False          False        False       False  \n",
       "..                     ...            ...          ...         ...  \n",
       "662                  False          False        False       False  \n",
       "663                  False          False        False       False  \n",
       "664                  False          False        False       False  \n",
       "665                  False          False        False       False  \n",
       "666                  False          False        False       False  \n",
       "\n",
       "[667 rows x 168 columns]"
      ]
     },
     "execution_count": 5,
     "metadata": {},
     "output_type": "execute_result"
    }
   ],
   "source": [
    "powers_df"
   ]
  },
  {
   "cell_type": "markdown",
   "metadata": {},
   "source": [
    "## Familiarize yourself with the dataset\n",
    "\n",
    "The first step in our Exploratory Data Analysis will be to get familiar with the data.  This step includes:\n",
    "\n",
    "* Understanding the dimensionality of your dataset\n",
    "* Investigating what type of data it contains, and the data types used to store it\n",
    "* Discovering how missing values are encoded, and how many there are\n",
    "* Getting a feel for what information it does and doesn't contain\n",
    "\n",
    "In the cell below, get the descriptive statistics of each DataFrame.  "
   ]
  },
  {
   "cell_type": "code",
   "execution_count": 6,
   "metadata": {
    "scrolled": false
   },
   "outputs": [
    {
     "name": "stdout",
     "output_type": "stream",
     "text": [
      "<class 'pandas.core.frame.DataFrame'>\n",
      "RangeIndex: 667 entries, 0 to 666\n",
      "Columns: 168 entries, hero_names to Omniscient\n",
      "dtypes: bool(167), object(1)\n",
      "memory usage: 114.1+ KB\n"
     ]
    }
   ],
   "source": [
    "powers_df.info()"
   ]
  },
  {
   "cell_type": "markdown",
   "metadata": {},
   "source": [
    "## Dealing with missing values\n",
    "\n",
    "Starting in the cell below, detect and deal with any missing values in either DataFrame. Then, explain your methodology for detecting and dealing with outliers in the markdown section below. Be sure to explain your strategy for dealing with missing values in numeric columns, as well as your strategy for dealing with missing values in non-numeric columns.  \n",
    "\n",
    "Note that if you need to add more cells to write code in, you can do this by:\n",
    "\n",
    "**1.** Highlighting a cell and then pressing `ESC` to enter command mode.  \n",
    "**2.** Press `A` to add a cell above the highlighted cell, or `B` to add a cell below the highlighted cell. \n",
    "\n",
    "Describe your strategy below this line:\n",
    "____________________________________________________________________________________________________________________________\n",
    "\n",
    "I have chosen to detect and deal with missing data, placeholder entries and duplicate data from the heroes dataframe. The approach, in summary, is to ignore placeholders for categorical data (represented by a '-'), replace placeholders for numerical data (-99.0), delete missing data (only about 17 entries had missing data) and also delete duplicate entries.\n"
   ]
  },
  {
   "cell_type": "markdown",
   "metadata": {},
   "source": [
    "## Missing values and the Heroes database"
   ]
  },
  {
   "cell_type": "markdown",
   "metadata": {},
   "source": [
    "The Heroes database has 734 rows and 11 columns in total."
   ]
  },
  {
   "cell_type": "code",
   "execution_count": 7,
   "metadata": {
    "scrolled": false
   },
   "outputs": [
    {
     "name": "stdout",
     "output_type": "stream",
     "text": [
      "<class 'pandas.core.frame.DataFrame'>\n",
      "RangeIndex: 734 entries, 0 to 733\n",
      "Data columns (total 10 columns):\n",
      "name          734 non-null object\n",
      "Gender        734 non-null object\n",
      "Eye color     734 non-null object\n",
      "Race          734 non-null object\n",
      "Hair color    734 non-null object\n",
      "Height        734 non-null float64\n",
      "Publisher     719 non-null object\n",
      "Skin color    734 non-null object\n",
      "Alignment     734 non-null object\n",
      "Weight        732 non-null float64\n",
      "dtypes: float64(2), object(8)\n",
      "memory usage: 57.5+ KB\n"
     ]
    }
   ],
   "source": [
    "#find out overview data of the heroes database.\n",
    "heroes_df.info()"
   ]
  },
  {
   "cell_type": "markdown",
   "metadata": {},
   "source": [
    "Most of the missing data is in the column \"Publisher\". There appear to be two missing values in the column \"Weight\"."
   ]
  },
  {
   "cell_type": "code",
   "execution_count": 8,
   "metadata": {
    "scrolled": false
   },
   "outputs": [
    {
     "data": {
      "text/plain": [
       "name           0\n",
       "Gender         0\n",
       "Eye color      0\n",
       "Race           0\n",
       "Hair color     0\n",
       "Height         0\n",
       "Publisher     15\n",
       "Skin color     0\n",
       "Alignment      0\n",
       "Weight         2\n",
       "dtype: int64"
      ]
     },
     "execution_count": 8,
     "metadata": {},
     "output_type": "execute_result"
    }
   ],
   "source": [
    "# See where the missing values are in the dataframe\n",
    "heroes_df.isna().sum()"
   ]
  },
  {
   "cell_type": "markdown",
   "metadata": {},
   "source": [
    "It would appear that missing values are limited and mostly concentrated in the Publisher column."
   ]
  },
  {
   "cell_type": "markdown",
   "metadata": {},
   "source": [
    "Detect and identify duplicated entries."
   ]
  },
  {
   "cell_type": "code",
   "execution_count": 9,
   "metadata": {
    "scrolled": false
   },
   "outputs": [
    {
     "data": {
      "text/plain": [
       "False    733\n",
       "True       1\n",
       "dtype: int64"
      ]
     },
     "execution_count": 9,
     "metadata": {},
     "output_type": "execute_result"
    }
   ],
   "source": [
    "heroes_df.duplicated().value_counts()"
   ]
  },
  {
   "cell_type": "code",
   "execution_count": 10,
   "metadata": {
    "scrolled": false
   },
   "outputs": [],
   "source": [
    "# remove duplicate dataset\n",
    "heroes_df.drop_duplicates(subset = ['name'], inplace = True)\n",
    "#reset the index after dropping duplicates.\n",
    "heroes_df.reset_index(drop = True, inplace=True)"
   ]
  },
  {
   "cell_type": "markdown",
   "metadata": {},
   "source": [
    "Investigate whether there are any placeholders in the dataframe."
   ]
  },
  {
   "cell_type": "code",
   "execution_count": 11,
   "metadata": {
    "scrolled": true
   },
   "outputs": [
    {
     "name": "stdout",
     "output_type": "stream",
     "text": [
      "name \n",
      " Bird-Man II    1\n",
      "Iceman         1\n",
      "Skaar          1\n",
      "Gladiator      1\n",
      "Spawn          1\n",
      "              ..\n",
      "Cerebra        1\n",
      "Carnage        1\n",
      "Superboy       1\n",
      "Ethan Hunt     1\n",
      "Tigra          1\n",
      "Name: name, Length: 715, dtype: int64 \n",
      "\n",
      "Gender \n",
      " Male      491\n",
      "Female    196\n",
      "-          28\n",
      "Name: Gender, dtype: int64 \n",
      "\n",
      "Eye color \n",
      " blue                       220\n",
      "-                          165\n",
      "brown                      125\n",
      "green                       71\n",
      "red                         45\n",
      "black                       22\n",
      "yellow                      19\n",
      "white                       16\n",
      "hazel                        6\n",
      "grey                         5\n",
      "purple                       4\n",
      "gold                         3\n",
      "amber                        2\n",
      "yellow (without irises)      2\n",
      "violet                       2\n",
      "green / blue                 1\n",
      "yellow / blue                1\n",
      "blue / white                 1\n",
      "yellow / red                 1\n",
      "indigo                       1\n",
      "white / red                  1\n",
      "silver                       1\n",
      "bown                         1\n",
      "Name: Eye color, dtype: int64 \n",
      "\n",
      "Race \n",
      " -                  300\n",
      "Human              199\n",
      "Mutant              63\n",
      "God / Eternal       13\n",
      "Cyborg              11\n",
      "                  ... \n",
      "Parademon            1\n",
      "Kakarantharaian      1\n",
      "Korugaran            1\n",
      "Icthyo Sapien        1\n",
      "Maiar                1\n",
      "Name: Race, Length: 62, dtype: int64 \n",
      "\n",
      "Hair color \n",
      " -                   166\n",
      "Black               154\n",
      "Blond                97\n",
      "Brown                82\n",
      "No Hair              75\n",
      "Red                  49\n",
      "White                23\n",
      "Auburn               12\n",
      "Green                 8\n",
      "Strawberry Blond      7\n",
      "Purple                5\n",
      "Grey                  5\n",
      "Silver                4\n",
      "Brown / White         4\n",
      "blond                 3\n",
      "black                 3\n",
      "Blue                  3\n",
      "Orange                2\n",
      "Yellow                2\n",
      "Red / White           1\n",
      "Brownn                1\n",
      "Magenta               1\n",
      "Gold                  1\n",
      "Red / Orange          1\n",
      "Black / Blue          1\n",
      "Brown / Black         1\n",
      "Red / Grey            1\n",
      "Pink                  1\n",
      "Orange / White        1\n",
      "Indigo                1\n",
      "Name: Hair color, dtype: int64 \n",
      "\n",
      "Height \n",
      " -99.0     209\n",
      " 183.0     59\n",
      " 188.0     49\n",
      " 180.0     38\n",
      " 178.0     37\n",
      " 185.0     35\n",
      " 175.0     34\n",
      " 168.0     29\n",
      " 165.0     26\n",
      " 170.0     24\n",
      " 191.0     20\n",
      " 193.0     20\n",
      " 198.0     17\n",
      " 173.0     17\n",
      " 201.0     11\n",
      " 196.0     11\n",
      " 213.0      7\n",
      " 163.0      7\n",
      " 203.0      5\n",
      " 211.0      5\n",
      " 244.0      4\n",
      " 157.0      4\n",
      " 229.0      3\n",
      " 155.0      3\n",
      " 218.0      3\n",
      " 226.0      3\n",
      " 122.0      2\n",
      " 206.0      2\n",
      " 279.0      2\n",
      " 366.0      2\n",
      " 137.0      2\n",
      " 30.5       2\n",
      " 305.0      2\n",
      " 61.0       1\n",
      " 975.0      1\n",
      " 142.0      1\n",
      " 287.0      1\n",
      " 267.0      1\n",
      " 304.8      1\n",
      " 701.0      1\n",
      " 876.0      1\n",
      " 259.0      1\n",
      " 15.2       1\n",
      " 297.0      1\n",
      " 257.0      1\n",
      " 62.5       1\n",
      " 66.0       1\n",
      " 160.0      1\n",
      " 140.0      1\n",
      " 234.0      1\n",
      " 71.0       1\n",
      " 79.0       1\n",
      " 108.0      1\n",
      " 64.0       1\n",
      "Name: Height, dtype: int64 \n",
      "\n",
      "Publisher \n",
      " Marvel Comics        379\n",
      "DC Comics            206\n",
      "NBC - Heroes          19\n",
      "Dark Horse Comics     17\n",
      "George Lucas          14\n",
      "Image Comics          14\n",
      "HarperCollins          6\n",
      "Star Trek              6\n",
      "Team Epic TV           5\n",
      "SyFy                   5\n",
      "Icon Comics            4\n",
      "IDW Publishing         4\n",
      "ABC Studios            4\n",
      "Shueisha               4\n",
      "Wildstorm              3\n",
      "Sony Pictures          2\n",
      "J. R. R. Tolkien       1\n",
      "Rebellion              1\n",
      "J. K. Rowling          1\n",
      "South Park             1\n",
      "Microsoft              1\n",
      "Hanna-Barbera          1\n",
      "Universal Studios      1\n",
      "Titan Books            1\n",
      "Name: Publisher, dtype: int64 \n",
      "\n",
      "Skin color \n",
      " -                 644\n",
      "green              21\n",
      "red                 9\n",
      "blue                9\n",
      "white               7\n",
      "grey                5\n",
      "silver              5\n",
      "purple              3\n",
      "gold                2\n",
      "pink                2\n",
      "yellow              2\n",
      "blue-white          1\n",
      "red / black         1\n",
      "black               1\n",
      "orange / white      1\n",
      "orange              1\n",
      "gray                1\n",
      "Name: Skin color, dtype: int64 \n",
      "\n",
      "Alignment \n",
      " good       479\n",
      "bad        205\n",
      "neutral     24\n",
      "-            7\n",
      "Name: Alignment, dtype: int64 \n",
      "\n",
      "Weight \n",
      " -99.0     229\n",
      " 79.0      23\n",
      " 54.0      23\n",
      " 81.0      22\n",
      " 90.0      19\n",
      "         ... \n",
      " 132.0      1\n",
      " 38.0       1\n",
      " 412.0      1\n",
      " 320.0      1\n",
      " 855.0      1\n",
      "Name: Weight, Length: 133, dtype: int64 \n",
      "\n"
     ]
    }
   ],
   "source": [
    "for col in heroes_df.columns:\n",
    "    print(col, '\\n', heroes_df[col].value_counts(), '\\n')"
   ]
  },
  {
   "cell_type": "markdown",
   "metadata": {},
   "source": [
    "Columns worth investigating further are:\n",
    "<p>1) 'Weight' - there are 229 entries of a negative weight (-99)</p><p>\n",
    "</p>2) 'Alignment' - there are 7 entries of no alignment (not even neutral). This is represented in the data by a dash ('-')</p>\n",
    "<p>3) 'Skin color' - a grand majority of the entries (644) have no identified skin colour and is represented in the data by a dash.</p>\n",
    "<p>4) 'Publisher' - there are 15 missing entries in the column 'Publisher'</p>\n",
    "<p>5) 'Height' - there are 209 entries of a negative height (-99)</p><p>\n",
    "<p>6) 'Hair Color' - there are 166 with no hair colour entry. This is represented in the data by a dash ('-').</p>\n",
    "<p>7) 'Race' - there are 300 with no entries. This is represented in the data by a dash ('-').</p>\n",
    "<p>8) 'Eye Color' - there are 165 with no entries. This is represented in the data by a dash ('-').</p>\n",
    "<p>9) 'Gender' - there are 28 with no entries. This is represented in the data by a dash ('-').</p>\n",
    "<p>10) 'name' - There should be no repeat names, all duplicates having been removed by this point.</p>\n",
    "<p> It would appear that the dash ('-') is used as a placeholder in the dataset.\n",
    "<p> It would also appear that -99.0 is used as a placeholder in certain columns, particularly those that contain numeric values.</p>"
   ]
  },
  {
   "cell_type": "markdown",
   "metadata": {},
   "source": [
    "## Use of dashes and -99.0 in the database"
   ]
  },
  {
   "cell_type": "markdown",
   "metadata": {},
   "source": [
    "Is -99.0 actually the weight of a hero or is it a placeholder? Which heroes have a -99 weight?"
   ]
  },
  {
   "cell_type": "code",
   "execution_count": 12,
   "metadata": {
    "scrolled": false
   },
   "outputs": [
    {
     "data": {
      "text/html": [
       "<div>\n",
       "<style scoped>\n",
       "    .dataframe tbody tr th:only-of-type {\n",
       "        vertical-align: middle;\n",
       "    }\n",
       "\n",
       "    .dataframe tbody tr th {\n",
       "        vertical-align: top;\n",
       "    }\n",
       "\n",
       "    .dataframe thead th {\n",
       "        text-align: right;\n",
       "    }\n",
       "</style>\n",
       "<table border=\"1\" class=\"dataframe\">\n",
       "  <thead>\n",
       "    <tr style=\"text-align: right;\">\n",
       "      <th></th>\n",
       "      <th>name</th>\n",
       "      <th>Gender</th>\n",
       "      <th>Eye color</th>\n",
       "      <th>Race</th>\n",
       "      <th>Hair color</th>\n",
       "      <th>Height</th>\n",
       "      <th>Publisher</th>\n",
       "      <th>Skin color</th>\n",
       "      <th>Alignment</th>\n",
       "      <th>Weight</th>\n",
       "    </tr>\n",
       "  </thead>\n",
       "  <tbody>\n",
       "    <tr>\n",
       "      <td>4</td>\n",
       "      <td>Abraxas</td>\n",
       "      <td>Male</td>\n",
       "      <td>blue</td>\n",
       "      <td>Cosmic Entity</td>\n",
       "      <td>Black</td>\n",
       "      <td>-99.0</td>\n",
       "      <td>Marvel Comics</td>\n",
       "      <td>-</td>\n",
       "      <td>bad</td>\n",
       "      <td>-99.0</td>\n",
       "    </tr>\n",
       "    <tr>\n",
       "      <td>6</td>\n",
       "      <td>Adam Monroe</td>\n",
       "      <td>Male</td>\n",
       "      <td>blue</td>\n",
       "      <td>-</td>\n",
       "      <td>Blond</td>\n",
       "      <td>-99.0</td>\n",
       "      <td>NBC - Heroes</td>\n",
       "      <td>-</td>\n",
       "      <td>good</td>\n",
       "      <td>-99.0</td>\n",
       "    </tr>\n",
       "    <tr>\n",
       "      <td>14</td>\n",
       "      <td>Alex Mercer</td>\n",
       "      <td>Male</td>\n",
       "      <td>-</td>\n",
       "      <td>Human</td>\n",
       "      <td>-</td>\n",
       "      <td>-99.0</td>\n",
       "      <td>Wildstorm</td>\n",
       "      <td>-</td>\n",
       "      <td>bad</td>\n",
       "      <td>-99.0</td>\n",
       "    </tr>\n",
       "    <tr>\n",
       "      <td>15</td>\n",
       "      <td>Alex Woolsly</td>\n",
       "      <td>Male</td>\n",
       "      <td>-</td>\n",
       "      <td>-</td>\n",
       "      <td>-</td>\n",
       "      <td>-99.0</td>\n",
       "      <td>NBC - Heroes</td>\n",
       "      <td>-</td>\n",
       "      <td>good</td>\n",
       "      <td>-99.0</td>\n",
       "    </tr>\n",
       "    <tr>\n",
       "      <td>18</td>\n",
       "      <td>Allan Quatermain</td>\n",
       "      <td>Male</td>\n",
       "      <td>-</td>\n",
       "      <td>-</td>\n",
       "      <td>-</td>\n",
       "      <td>-99.0</td>\n",
       "      <td>Wildstorm</td>\n",
       "      <td>-</td>\n",
       "      <td>good</td>\n",
       "      <td>-99.0</td>\n",
       "    </tr>\n",
       "    <tr>\n",
       "      <td>...</td>\n",
       "      <td>...</td>\n",
       "      <td>...</td>\n",
       "      <td>...</td>\n",
       "      <td>...</td>\n",
       "      <td>...</td>\n",
       "      <td>...</td>\n",
       "      <td>...</td>\n",
       "      <td>...</td>\n",
       "      <td>...</td>\n",
       "      <td>...</td>\n",
       "    </tr>\n",
       "    <tr>\n",
       "      <td>693</td>\n",
       "      <td>Weapon XI</td>\n",
       "      <td>Male</td>\n",
       "      <td>-</td>\n",
       "      <td>-</td>\n",
       "      <td>-</td>\n",
       "      <td>-99.0</td>\n",
       "      <td>Marvel Comics</td>\n",
       "      <td>-</td>\n",
       "      <td>bad</td>\n",
       "      <td>-99.0</td>\n",
       "    </tr>\n",
       "    <tr>\n",
       "      <td>694</td>\n",
       "      <td>White Canary</td>\n",
       "      <td>Female</td>\n",
       "      <td>brown</td>\n",
       "      <td>Human</td>\n",
       "      <td>Black</td>\n",
       "      <td>-99.0</td>\n",
       "      <td>DC Comics</td>\n",
       "      <td>-</td>\n",
       "      <td>bad</td>\n",
       "      <td>-99.0</td>\n",
       "    </tr>\n",
       "    <tr>\n",
       "      <td>696</td>\n",
       "      <td>Wildfire</td>\n",
       "      <td>Male</td>\n",
       "      <td>-</td>\n",
       "      <td>-</td>\n",
       "      <td>-</td>\n",
       "      <td>-99.0</td>\n",
       "      <td>DC Comics</td>\n",
       "      <td>-</td>\n",
       "      <td>good</td>\n",
       "      <td>-99.0</td>\n",
       "    </tr>\n",
       "    <tr>\n",
       "      <td>704</td>\n",
       "      <td>Wondra</td>\n",
       "      <td>Female</td>\n",
       "      <td>-</td>\n",
       "      <td>-</td>\n",
       "      <td>-</td>\n",
       "      <td>-99.0</td>\n",
       "      <td>Marvel Comics</td>\n",
       "      <td>-</td>\n",
       "      <td>good</td>\n",
       "      <td>-99.0</td>\n",
       "    </tr>\n",
       "    <tr>\n",
       "      <td>711</td>\n",
       "      <td>Ymir</td>\n",
       "      <td>Male</td>\n",
       "      <td>white</td>\n",
       "      <td>Frost Giant</td>\n",
       "      <td>No Hair</td>\n",
       "      <td>304.8</td>\n",
       "      <td>Marvel Comics</td>\n",
       "      <td>white</td>\n",
       "      <td>good</td>\n",
       "      <td>-99.0</td>\n",
       "    </tr>\n",
       "  </tbody>\n",
       "</table>\n",
       "<p>229 rows × 10 columns</p>\n",
       "</div>"
      ],
      "text/plain": [
       "                 name  Gender Eye color           Race Hair color  Height  \\\n",
       "4             Abraxas    Male      blue  Cosmic Entity      Black   -99.0   \n",
       "6         Adam Monroe    Male      blue              -      Blond   -99.0   \n",
       "14        Alex Mercer    Male         -          Human          -   -99.0   \n",
       "15       Alex Woolsly    Male         -              -          -   -99.0   \n",
       "18   Allan Quatermain    Male         -              -          -   -99.0   \n",
       "..                ...     ...       ...            ...        ...     ...   \n",
       "693         Weapon XI    Male         -              -          -   -99.0   \n",
       "694      White Canary  Female     brown          Human      Black   -99.0   \n",
       "696          Wildfire    Male         -              -          -   -99.0   \n",
       "704            Wondra  Female         -              -          -   -99.0   \n",
       "711              Ymir    Male     white    Frost Giant    No Hair   304.8   \n",
       "\n",
       "         Publisher Skin color Alignment  Weight  \n",
       "4    Marvel Comics          -       bad   -99.0  \n",
       "6     NBC - Heroes          -      good   -99.0  \n",
       "14       Wildstorm          -       bad   -99.0  \n",
       "15    NBC - Heroes          -      good   -99.0  \n",
       "18       Wildstorm          -      good   -99.0  \n",
       "..             ...        ...       ...     ...  \n",
       "693  Marvel Comics          -       bad   -99.0  \n",
       "694      DC Comics          -       bad   -99.0  \n",
       "696      DC Comics          -      good   -99.0  \n",
       "704  Marvel Comics          -      good   -99.0  \n",
       "711  Marvel Comics      white      good   -99.0  \n",
       "\n",
       "[229 rows x 10 columns]"
      ]
     },
     "execution_count": 12,
     "metadata": {},
     "output_type": "execute_result"
    }
   ],
   "source": [
    "#observe how -99.0 is used in the data set, in particular, in relation to Weight\n",
    "heroes_df.loc[heroes_df['Weight']== -99.0]"
   ]
  },
  {
   "cell_type": "markdown",
   "metadata": {},
   "source": [
    "Looking at Alex Mercer's entry, he is human but his weight is listed at -99.0. Even in the realm of superheroes, a human being doesn't weigh -99.0 (although a Frost Giant might :) )\n",
    "\n",
    "<p> We may conclude that -99.0 is a placeholder value.</p>"
   ]
  },
  {
   "cell_type": "code",
   "execution_count": 13,
   "metadata": {
    "scrolled": false
   },
   "outputs": [
    {
     "data": {
      "text/html": [
       "<div>\n",
       "<style scoped>\n",
       "    .dataframe tbody tr th:only-of-type {\n",
       "        vertical-align: middle;\n",
       "    }\n",
       "\n",
       "    .dataframe tbody tr th {\n",
       "        vertical-align: top;\n",
       "    }\n",
       "\n",
       "    .dataframe thead th {\n",
       "        text-align: right;\n",
       "    }\n",
       "</style>\n",
       "<table border=\"1\" class=\"dataframe\">\n",
       "  <thead>\n",
       "    <tr style=\"text-align: right;\">\n",
       "      <th></th>\n",
       "      <th>name</th>\n",
       "      <th>Gender</th>\n",
       "      <th>Eye color</th>\n",
       "      <th>Race</th>\n",
       "      <th>Hair color</th>\n",
       "      <th>Height</th>\n",
       "      <th>Publisher</th>\n",
       "      <th>Skin color</th>\n",
       "      <th>Alignment</th>\n",
       "      <th>Weight</th>\n",
       "    </tr>\n",
       "  </thead>\n",
       "  <tbody>\n",
       "    <tr>\n",
       "      <td>708</td>\n",
       "      <td>Yellow Claw</td>\n",
       "      <td>Male</td>\n",
       "      <td>blue</td>\n",
       "      <td>-</td>\n",
       "      <td>No Hair</td>\n",
       "      <td>188.0</td>\n",
       "      <td>Marvel Comics</td>\n",
       "      <td>-</td>\n",
       "      <td>bad</td>\n",
       "      <td>95.0</td>\n",
       "    </tr>\n",
       "    <tr>\n",
       "      <td>709</td>\n",
       "      <td>Yellowjacket</td>\n",
       "      <td>Male</td>\n",
       "      <td>blue</td>\n",
       "      <td>Human</td>\n",
       "      <td>Blond</td>\n",
       "      <td>183.0</td>\n",
       "      <td>Marvel Comics</td>\n",
       "      <td>-</td>\n",
       "      <td>good</td>\n",
       "      <td>83.0</td>\n",
       "    </tr>\n",
       "    <tr>\n",
       "      <td>710</td>\n",
       "      <td>Yellowjacket II</td>\n",
       "      <td>Female</td>\n",
       "      <td>blue</td>\n",
       "      <td>Human</td>\n",
       "      <td>Strawberry Blond</td>\n",
       "      <td>165.0</td>\n",
       "      <td>Marvel Comics</td>\n",
       "      <td>-</td>\n",
       "      <td>good</td>\n",
       "      <td>52.0</td>\n",
       "    </tr>\n",
       "    <tr>\n",
       "      <td>713</td>\n",
       "      <td>Zatanna</td>\n",
       "      <td>Female</td>\n",
       "      <td>blue</td>\n",
       "      <td>Human</td>\n",
       "      <td>Black</td>\n",
       "      <td>170.0</td>\n",
       "      <td>DC Comics</td>\n",
       "      <td>-</td>\n",
       "      <td>good</td>\n",
       "      <td>57.0</td>\n",
       "    </tr>\n",
       "    <tr>\n",
       "      <td>714</td>\n",
       "      <td>Zoom</td>\n",
       "      <td>Male</td>\n",
       "      <td>red</td>\n",
       "      <td>-</td>\n",
       "      <td>Brown</td>\n",
       "      <td>185.0</td>\n",
       "      <td>DC Comics</td>\n",
       "      <td>-</td>\n",
       "      <td>bad</td>\n",
       "      <td>81.0</td>\n",
       "    </tr>\n",
       "  </tbody>\n",
       "</table>\n",
       "</div>"
      ],
      "text/plain": [
       "                name  Gender Eye color   Race        Hair color  Height  \\\n",
       "708      Yellow Claw    Male      blue      -           No Hair   188.0   \n",
       "709     Yellowjacket    Male      blue  Human             Blond   183.0   \n",
       "710  Yellowjacket II  Female      blue  Human  Strawberry Blond   165.0   \n",
       "713          Zatanna  Female      blue  Human             Black   170.0   \n",
       "714             Zoom    Male       red      -             Brown   185.0   \n",
       "\n",
       "         Publisher Skin color Alignment  Weight  \n",
       "708  Marvel Comics          -       bad    95.0  \n",
       "709  Marvel Comics          -      good    83.0  \n",
       "710  Marvel Comics          -      good    52.0  \n",
       "713      DC Comics          -      good    57.0  \n",
       "714      DC Comics          -       bad    81.0  "
      ]
     },
     "execution_count": 13,
     "metadata": {},
     "output_type": "execute_result"
    }
   ],
   "source": [
    "# observe how dashes are used in the dataset, in particular, in relation to Skin color\n",
    "heroes_df.loc[heroes_df['Skin color'] == '-'].tail()"
   ]
  },
  {
   "cell_type": "markdown",
   "metadata": {},
   "source": [
    "The above extract also confirms that the dash is being used as a placeholder where one would expect that because a character is human, such character actually has a skin that would have a colour. It might be the case that some superheroes don't have a skin. \n",
    "<p> In this case, Yellowjacket is a human superhero and has blond hair, but a dash against his skin colour. This suggests that dash represents a placeholder for a missing value. Ie, Yellowjacket has a skin colour but the database doesn't record what it is.</p>"
   ]
  },
  {
   "cell_type": "markdown",
   "metadata": {},
   "source": [
    "## Cleaning up the heroes database"
   ]
  },
  {
   "cell_type": "markdown",
   "metadata": {},
   "source": [
    "Now that we have ascertained that dashes and -99.0 are placeholders, we can now go on to clean them up together with the actual NaN entries identified above.\n",
    "<p> From the analysis above, the number of entries containing either a dash or -99.0 is a large one. With the exception of \"Gender\", removing any datapoint with a dash or -99.0 would create a loss of somewhere between 20 and 30% of the data points. Therefore, removal of datapoints containing placeholders for any column isn't feasible. We would lose too much of our data for analysis.</p>\n",
    "<p> It is worth observing that dashes have been used for categorical data, while -99.0 has been used to fill in for continuous numerical data.</p>"
   ]
  },
  {
   "cell_type": "code",
   "execution_count": 14,
   "metadata": {
    "scrolled": false
   },
   "outputs": [
    {
     "name": "stdout",
     "output_type": "stream",
     "text": [
      "<class 'pandas.core.frame.DataFrame'>\n",
      "Int64Index: 75 entries, 0 to 711\n",
      "Data columns (total 10 columns):\n",
      "name          75 non-null object\n",
      "Gender        75 non-null object\n",
      "Eye color     75 non-null object\n",
      "Race          75 non-null object\n",
      "Hair color    75 non-null object\n",
      "Height        75 non-null float64\n",
      "Publisher     74 non-null object\n",
      "Skin color    75 non-null object\n",
      "Alignment     75 non-null object\n",
      "Weight        75 non-null float64\n",
      "dtypes: float64(2), object(8)\n",
      "memory usage: 6.4+ KB\n"
     ]
    }
   ],
   "source": [
    "heroes_df.loc[heroes_df['Hair color'] == 'No Hair'].info()"
   ]
  },
  {
   "cell_type": "markdown",
   "metadata": {},
   "source": [
    "### The approach to dashes - Do nothing"
   ]
  },
  {
   "cell_type": "markdown",
   "metadata": {},
   "source": [
    "<p>Where dashes have been used, it is difficult to fill in categorical data like hair colour with a sensible replacement without changing the profile of the dataset significantly, especially where so many dashes have been used (ie for Skin color). Therefore, the better approach may be to leave the dashes where they are, to connote an unknown attribute, for instance, an unknown Hair color (incidentally, there are 75 characters with 'No Hair' so leaving the dashes where they are in this case will help preserve the quality of the data.</p>\n"
   ]
  },
  {
   "cell_type": "markdown",
   "metadata": {},
   "source": [
    "### The approach to -99.0 placeholders - replace with Median"
   ]
  },
  {
   "cell_type": "markdown",
   "metadata": {},
   "source": [
    "<p>The approach to where -99.0 as height or weight should be to replace the placeholder with a value that will cause the minimum of distortion to the whole dataset. This will be done in each case by looking at the distribution of values and taking a median Weight (or Height) where a Weight (or Height) is available to use for calculating such median.</p>\n",
    "\n",
    "<p> This is the approach because leaving the -99.0 placeholders will skew calculations using the numeric values for Weight (or Height). Picking the median reading (for when Weight and Height is available) will cause the least distortion of the dataset as a whole as it relates to Weight (or Height).</p>\n",
    "\n",
    "<p>However, this approach isn't foolproof. By replacing the placeholders with a median value, we risk making assumptions about the actual weight that may not be correct, especially in the superhero universe, where weight and height may not be normally distributed (and may infact be positively skewed).</p>"
   ]
  },
  {
   "cell_type": "markdown",
   "metadata": {},
   "source": [
    "First, looking at -99.0 placeholders for both Height and Weight:"
   ]
  },
  {
   "cell_type": "code",
   "execution_count": 15,
   "metadata": {
    "scrolled": false
   },
   "outputs": [
    {
     "data": {
      "text/html": [
       "<div>\n",
       "<style scoped>\n",
       "    .dataframe tbody tr th:only-of-type {\n",
       "        vertical-align: middle;\n",
       "    }\n",
       "\n",
       "    .dataframe tbody tr th {\n",
       "        vertical-align: top;\n",
       "    }\n",
       "\n",
       "    .dataframe thead th {\n",
       "        text-align: right;\n",
       "    }\n",
       "</style>\n",
       "<table border=\"1\" class=\"dataframe\">\n",
       "  <thead>\n",
       "    <tr style=\"text-align: right;\">\n",
       "      <th></th>\n",
       "      <th>name</th>\n",
       "      <th>Gender</th>\n",
       "      <th>Eye color</th>\n",
       "      <th>Race</th>\n",
       "      <th>Hair color</th>\n",
       "      <th>Height</th>\n",
       "      <th>Publisher</th>\n",
       "      <th>Skin color</th>\n",
       "      <th>Alignment</th>\n",
       "      <th>Weight</th>\n",
       "    </tr>\n",
       "  </thead>\n",
       "  <tbody>\n",
       "    <tr>\n",
       "      <td>4</td>\n",
       "      <td>Abraxas</td>\n",
       "      <td>Male</td>\n",
       "      <td>blue</td>\n",
       "      <td>Cosmic Entity</td>\n",
       "      <td>Black</td>\n",
       "      <td>-99.0</td>\n",
       "      <td>Marvel Comics</td>\n",
       "      <td>-</td>\n",
       "      <td>bad</td>\n",
       "      <td>-99.0</td>\n",
       "    </tr>\n",
       "    <tr>\n",
       "      <td>6</td>\n",
       "      <td>Adam Monroe</td>\n",
       "      <td>Male</td>\n",
       "      <td>blue</td>\n",
       "      <td>-</td>\n",
       "      <td>Blond</td>\n",
       "      <td>-99.0</td>\n",
       "      <td>NBC - Heroes</td>\n",
       "      <td>-</td>\n",
       "      <td>good</td>\n",
       "      <td>-99.0</td>\n",
       "    </tr>\n",
       "    <tr>\n",
       "      <td>14</td>\n",
       "      <td>Alex Mercer</td>\n",
       "      <td>Male</td>\n",
       "      <td>-</td>\n",
       "      <td>Human</td>\n",
       "      <td>-</td>\n",
       "      <td>-99.0</td>\n",
       "      <td>Wildstorm</td>\n",
       "      <td>-</td>\n",
       "      <td>bad</td>\n",
       "      <td>-99.0</td>\n",
       "    </tr>\n",
       "    <tr>\n",
       "      <td>15</td>\n",
       "      <td>Alex Woolsly</td>\n",
       "      <td>Male</td>\n",
       "      <td>-</td>\n",
       "      <td>-</td>\n",
       "      <td>-</td>\n",
       "      <td>-99.0</td>\n",
       "      <td>NBC - Heroes</td>\n",
       "      <td>-</td>\n",
       "      <td>good</td>\n",
       "      <td>-99.0</td>\n",
       "    </tr>\n",
       "    <tr>\n",
       "      <td>18</td>\n",
       "      <td>Allan Quatermain</td>\n",
       "      <td>Male</td>\n",
       "      <td>-</td>\n",
       "      <td>-</td>\n",
       "      <td>-</td>\n",
       "      <td>-99.0</td>\n",
       "      <td>Wildstorm</td>\n",
       "      <td>-</td>\n",
       "      <td>good</td>\n",
       "      <td>-99.0</td>\n",
       "    </tr>\n",
       "    <tr>\n",
       "      <td>...</td>\n",
       "      <td>...</td>\n",
       "      <td>...</td>\n",
       "      <td>...</td>\n",
       "      <td>...</td>\n",
       "      <td>...</td>\n",
       "      <td>...</td>\n",
       "      <td>...</td>\n",
       "      <td>...</td>\n",
       "      <td>...</td>\n",
       "      <td>...</td>\n",
       "    </tr>\n",
       "    <tr>\n",
       "      <td>692</td>\n",
       "      <td>Watcher</td>\n",
       "      <td>Male</td>\n",
       "      <td>-</td>\n",
       "      <td>-</td>\n",
       "      <td>-</td>\n",
       "      <td>-99.0</td>\n",
       "      <td>Marvel Comics</td>\n",
       "      <td>-</td>\n",
       "      <td>good</td>\n",
       "      <td>-99.0</td>\n",
       "    </tr>\n",
       "    <tr>\n",
       "      <td>693</td>\n",
       "      <td>Weapon XI</td>\n",
       "      <td>Male</td>\n",
       "      <td>-</td>\n",
       "      <td>-</td>\n",
       "      <td>-</td>\n",
       "      <td>-99.0</td>\n",
       "      <td>Marvel Comics</td>\n",
       "      <td>-</td>\n",
       "      <td>bad</td>\n",
       "      <td>-99.0</td>\n",
       "    </tr>\n",
       "    <tr>\n",
       "      <td>694</td>\n",
       "      <td>White Canary</td>\n",
       "      <td>Female</td>\n",
       "      <td>brown</td>\n",
       "      <td>Human</td>\n",
       "      <td>Black</td>\n",
       "      <td>-99.0</td>\n",
       "      <td>DC Comics</td>\n",
       "      <td>-</td>\n",
       "      <td>bad</td>\n",
       "      <td>-99.0</td>\n",
       "    </tr>\n",
       "    <tr>\n",
       "      <td>696</td>\n",
       "      <td>Wildfire</td>\n",
       "      <td>Male</td>\n",
       "      <td>-</td>\n",
       "      <td>-</td>\n",
       "      <td>-</td>\n",
       "      <td>-99.0</td>\n",
       "      <td>DC Comics</td>\n",
       "      <td>-</td>\n",
       "      <td>good</td>\n",
       "      <td>-99.0</td>\n",
       "    </tr>\n",
       "    <tr>\n",
       "      <td>704</td>\n",
       "      <td>Wondra</td>\n",
       "      <td>Female</td>\n",
       "      <td>-</td>\n",
       "      <td>-</td>\n",
       "      <td>-</td>\n",
       "      <td>-99.0</td>\n",
       "      <td>Marvel Comics</td>\n",
       "      <td>-</td>\n",
       "      <td>good</td>\n",
       "      <td>-99.0</td>\n",
       "    </tr>\n",
       "  </tbody>\n",
       "</table>\n",
       "<p>204 rows × 10 columns</p>\n",
       "</div>"
      ],
      "text/plain": [
       "                 name  Gender Eye color           Race Hair color  Height  \\\n",
       "4             Abraxas    Male      blue  Cosmic Entity      Black   -99.0   \n",
       "6         Adam Monroe    Male      blue              -      Blond   -99.0   \n",
       "14        Alex Mercer    Male         -          Human          -   -99.0   \n",
       "15       Alex Woolsly    Male         -              -          -   -99.0   \n",
       "18   Allan Quatermain    Male         -              -          -   -99.0   \n",
       "..                ...     ...       ...            ...        ...     ...   \n",
       "692           Watcher    Male         -              -          -   -99.0   \n",
       "693         Weapon XI    Male         -              -          -   -99.0   \n",
       "694      White Canary  Female     brown          Human      Black   -99.0   \n",
       "696          Wildfire    Male         -              -          -   -99.0   \n",
       "704            Wondra  Female         -              -          -   -99.0   \n",
       "\n",
       "         Publisher Skin color Alignment  Weight  \n",
       "4    Marvel Comics          -       bad   -99.0  \n",
       "6     NBC - Heroes          -      good   -99.0  \n",
       "14       Wildstorm          -       bad   -99.0  \n",
       "15    NBC - Heroes          -      good   -99.0  \n",
       "18       Wildstorm          -      good   -99.0  \n",
       "..             ...        ...       ...     ...  \n",
       "692  Marvel Comics          -      good   -99.0  \n",
       "693  Marvel Comics          -       bad   -99.0  \n",
       "694      DC Comics          -       bad   -99.0  \n",
       "696      DC Comics          -      good   -99.0  \n",
       "704  Marvel Comics          -      good   -99.0  \n",
       "\n",
       "[204 rows x 10 columns]"
      ]
     },
     "execution_count": 15,
     "metadata": {},
     "output_type": "execute_result"
    }
   ],
   "source": [
    "heroes_df.loc[(heroes_df['Height'] == -99.0) & (heroes_df['Weight'] == -99.0)]"
   ]
  },
  {
   "cell_type": "markdown",
   "metadata": {},
   "source": [
    "The grand majority of characters with a -99.0 height also have a -99.0 weight. There are 217 characters in total with a -99.0 height, 212 of them also has a -99.0 weight (out of 237 characters with a -99.0 weight)."
   ]
  },
  {
   "cell_type": "code",
   "execution_count": 16,
   "metadata": {
    "scrolled": false
   },
   "outputs": [
    {
     "data": {
      "text/html": [
       "<div>\n",
       "<style scoped>\n",
       "    .dataframe tbody tr th:only-of-type {\n",
       "        vertical-align: middle;\n",
       "    }\n",
       "\n",
       "    .dataframe tbody tr th {\n",
       "        vertical-align: top;\n",
       "    }\n",
       "\n",
       "    .dataframe thead th {\n",
       "        text-align: right;\n",
       "    }\n",
       "</style>\n",
       "<table border=\"1\" class=\"dataframe\">\n",
       "  <thead>\n",
       "    <tr style=\"text-align: right;\">\n",
       "      <th></th>\n",
       "      <th>name</th>\n",
       "      <th>Gender</th>\n",
       "      <th>Eye color</th>\n",
       "      <th>Race</th>\n",
       "      <th>Hair color</th>\n",
       "      <th>Height</th>\n",
       "      <th>Publisher</th>\n",
       "      <th>Skin color</th>\n",
       "      <th>Alignment</th>\n",
       "      <th>Weight</th>\n",
       "    </tr>\n",
       "  </thead>\n",
       "  <tbody>\n",
       "    <tr>\n",
       "      <td>30</td>\n",
       "      <td>Anti-Monitor</td>\n",
       "      <td>Male</td>\n",
       "      <td>yellow</td>\n",
       "      <td>God / Eternal</td>\n",
       "      <td>No Hair</td>\n",
       "      <td>61.0</td>\n",
       "      <td>DC Comics</td>\n",
       "      <td>-</td>\n",
       "      <td>bad</td>\n",
       "      <td>-99.0</td>\n",
       "    </tr>\n",
       "    <tr>\n",
       "      <td>67</td>\n",
       "      <td>Batwoman V</td>\n",
       "      <td>Female</td>\n",
       "      <td>green</td>\n",
       "      <td>Human</td>\n",
       "      <td>Red</td>\n",
       "      <td>178.0</td>\n",
       "      <td>DC Comics</td>\n",
       "      <td>-</td>\n",
       "      <td>good</td>\n",
       "      <td>-99.0</td>\n",
       "    </tr>\n",
       "    <tr>\n",
       "      <td>114</td>\n",
       "      <td>Bloodwraith</td>\n",
       "      <td>Male</td>\n",
       "      <td>white</td>\n",
       "      <td>-</td>\n",
       "      <td>No Hair</td>\n",
       "      <td>30.5</td>\n",
       "      <td>Marvel Comics</td>\n",
       "      <td>-</td>\n",
       "      <td>bad</td>\n",
       "      <td>-99.0</td>\n",
       "    </tr>\n",
       "    <tr>\n",
       "      <td>118</td>\n",
       "      <td>Boba Fett</td>\n",
       "      <td>Male</td>\n",
       "      <td>brown</td>\n",
       "      <td>Human / Clone</td>\n",
       "      <td>Black</td>\n",
       "      <td>183.0</td>\n",
       "      <td>George Lucas</td>\n",
       "      <td>-</td>\n",
       "      <td>bad</td>\n",
       "      <td>-99.0</td>\n",
       "    </tr>\n",
       "    <tr>\n",
       "      <td>130</td>\n",
       "      <td>Brundlefly</td>\n",
       "      <td>Male</td>\n",
       "      <td>-</td>\n",
       "      <td>Mutant</td>\n",
       "      <td>-</td>\n",
       "      <td>193.0</td>\n",
       "      <td>NaN</td>\n",
       "      <td>-</td>\n",
       "      <td>-</td>\n",
       "      <td>-99.0</td>\n",
       "    </tr>\n",
       "    <tr>\n",
       "      <td>144</td>\n",
       "      <td>Captain Epic</td>\n",
       "      <td>Male</td>\n",
       "      <td>blue</td>\n",
       "      <td>-</td>\n",
       "      <td>Brown</td>\n",
       "      <td>188.0</td>\n",
       "      <td>Team Epic TV</td>\n",
       "      <td>-</td>\n",
       "      <td>good</td>\n",
       "      <td>-99.0</td>\n",
       "    </tr>\n",
       "    <tr>\n",
       "      <td>166</td>\n",
       "      <td>Chuck Norris</td>\n",
       "      <td>Male</td>\n",
       "      <td>-</td>\n",
       "      <td>-</td>\n",
       "      <td>-</td>\n",
       "      <td>178.0</td>\n",
       "      <td>NaN</td>\n",
       "      <td>-</td>\n",
       "      <td>good</td>\n",
       "      <td>-99.0</td>\n",
       "    </tr>\n",
       "    <tr>\n",
       "      <td>197</td>\n",
       "      <td>Darth Maul</td>\n",
       "      <td>Male</td>\n",
       "      <td>yellow / red</td>\n",
       "      <td>Dathomirian Zabrak</td>\n",
       "      <td>-</td>\n",
       "      <td>170.0</td>\n",
       "      <td>George Lucas</td>\n",
       "      <td>red / black</td>\n",
       "      <td>bad</td>\n",
       "      <td>-99.0</td>\n",
       "    </tr>\n",
       "    <tr>\n",
       "      <td>222</td>\n",
       "      <td>Dormammu</td>\n",
       "      <td>Male</td>\n",
       "      <td>yellow</td>\n",
       "      <td>-</td>\n",
       "      <td>No Hair</td>\n",
       "      <td>185.0</td>\n",
       "      <td>Marvel Comics</td>\n",
       "      <td>-</td>\n",
       "      <td>bad</td>\n",
       "      <td>-99.0</td>\n",
       "    </tr>\n",
       "    <tr>\n",
       "      <td>235</td>\n",
       "      <td>Ethan Hunt</td>\n",
       "      <td>Male</td>\n",
       "      <td>brown</td>\n",
       "      <td>Human</td>\n",
       "      <td>Brown</td>\n",
       "      <td>168.0</td>\n",
       "      <td>NaN</td>\n",
       "      <td>-</td>\n",
       "      <td>good</td>\n",
       "      <td>-99.0</td>\n",
       "    </tr>\n",
       "    <tr>\n",
       "      <td>284</td>\n",
       "      <td>Greedo</td>\n",
       "      <td>Male</td>\n",
       "      <td>purple</td>\n",
       "      <td>Rodian</td>\n",
       "      <td>-</td>\n",
       "      <td>170.0</td>\n",
       "      <td>George Lucas</td>\n",
       "      <td>green</td>\n",
       "      <td>bad</td>\n",
       "      <td>-99.0</td>\n",
       "    </tr>\n",
       "    <tr>\n",
       "      <td>295</td>\n",
       "      <td>Hancock</td>\n",
       "      <td>Male</td>\n",
       "      <td>brown</td>\n",
       "      <td>Human</td>\n",
       "      <td>Black</td>\n",
       "      <td>188.0</td>\n",
       "      <td>Sony Pictures</td>\n",
       "      <td>-</td>\n",
       "      <td>good</td>\n",
       "      <td>-99.0</td>\n",
       "    </tr>\n",
       "    <tr>\n",
       "      <td>316</td>\n",
       "      <td>Hollow</td>\n",
       "      <td>Female</td>\n",
       "      <td>blue</td>\n",
       "      <td>-</td>\n",
       "      <td>Red</td>\n",
       "      <td>170.0</td>\n",
       "      <td>Marvel Comics</td>\n",
       "      <td>-</td>\n",
       "      <td>good</td>\n",
       "      <td>-99.0</td>\n",
       "    </tr>\n",
       "    <tr>\n",
       "      <td>339</td>\n",
       "      <td>James Bond</td>\n",
       "      <td>Male</td>\n",
       "      <td>blue</td>\n",
       "      <td>Human</td>\n",
       "      <td>Blond</td>\n",
       "      <td>183.0</td>\n",
       "      <td>Titan Books</td>\n",
       "      <td>-</td>\n",
       "      <td>good</td>\n",
       "      <td>-99.0</td>\n",
       "    </tr>\n",
       "    <tr>\n",
       "      <td>341</td>\n",
       "      <td>Jar Jar Binks</td>\n",
       "      <td>Male</td>\n",
       "      <td>yellow</td>\n",
       "      <td>Gungan</td>\n",
       "      <td>-</td>\n",
       "      <td>193.0</td>\n",
       "      <td>George Lucas</td>\n",
       "      <td>orange / white</td>\n",
       "      <td>good</td>\n",
       "      <td>-99.0</td>\n",
       "    </tr>\n",
       "    <tr>\n",
       "      <td>354</td>\n",
       "      <td>John Constantine</td>\n",
       "      <td>Male</td>\n",
       "      <td>blue</td>\n",
       "      <td>Human</td>\n",
       "      <td>Blond</td>\n",
       "      <td>183.0</td>\n",
       "      <td>DC Comics</td>\n",
       "      <td>-</td>\n",
       "      <td>good</td>\n",
       "      <td>-99.0</td>\n",
       "    </tr>\n",
       "    <tr>\n",
       "      <td>360</td>\n",
       "      <td>Judge Dredd</td>\n",
       "      <td>Male</td>\n",
       "      <td>-</td>\n",
       "      <td>Human</td>\n",
       "      <td>-</td>\n",
       "      <td>188.0</td>\n",
       "      <td>Rebellion</td>\n",
       "      <td>-</td>\n",
       "      <td>good</td>\n",
       "      <td>-99.0</td>\n",
       "    </tr>\n",
       "    <tr>\n",
       "      <td>365</td>\n",
       "      <td>K-2SO</td>\n",
       "      <td>Male</td>\n",
       "      <td>white</td>\n",
       "      <td>Android</td>\n",
       "      <td>No Hair</td>\n",
       "      <td>213.0</td>\n",
       "      <td>George Lucas</td>\n",
       "      <td>gray</td>\n",
       "      <td>good</td>\n",
       "      <td>-99.0</td>\n",
       "    </tr>\n",
       "    <tr>\n",
       "      <td>413</td>\n",
       "      <td>Magus</td>\n",
       "      <td>Male</td>\n",
       "      <td>black</td>\n",
       "      <td>-</td>\n",
       "      <td>-</td>\n",
       "      <td>183.0</td>\n",
       "      <td>Marvel Comics</td>\n",
       "      <td>-</td>\n",
       "      <td>bad</td>\n",
       "      <td>-99.0</td>\n",
       "    </tr>\n",
       "    <tr>\n",
       "      <td>423</td>\n",
       "      <td>Master Chief</td>\n",
       "      <td>Male</td>\n",
       "      <td>brown</td>\n",
       "      <td>Human / Altered</td>\n",
       "      <td>Brown</td>\n",
       "      <td>213.0</td>\n",
       "      <td>Microsoft</td>\n",
       "      <td>-</td>\n",
       "      <td>good</td>\n",
       "      <td>-99.0</td>\n",
       "    </tr>\n",
       "    <tr>\n",
       "      <td>543</td>\n",
       "      <td>Rey</td>\n",
       "      <td>Female</td>\n",
       "      <td>hazel</td>\n",
       "      <td>Human</td>\n",
       "      <td>Brown</td>\n",
       "      <td>297.0</td>\n",
       "      <td>George Lucas</td>\n",
       "      <td>-</td>\n",
       "      <td>good</td>\n",
       "      <td>-99.0</td>\n",
       "    </tr>\n",
       "    <tr>\n",
       "      <td>562</td>\n",
       "      <td>Sauron</td>\n",
       "      <td>Male</td>\n",
       "      <td>-</td>\n",
       "      <td>Maiar</td>\n",
       "      <td>-</td>\n",
       "      <td>279.0</td>\n",
       "      <td>J. R. R. Tolkien</td>\n",
       "      <td>-</td>\n",
       "      <td>bad</td>\n",
       "      <td>-99.0</td>\n",
       "    </tr>\n",
       "    <tr>\n",
       "      <td>624</td>\n",
       "      <td>Stormtrooper</td>\n",
       "      <td>Male</td>\n",
       "      <td>-</td>\n",
       "      <td>Human</td>\n",
       "      <td>-</td>\n",
       "      <td>183.0</td>\n",
       "      <td>George Lucas</td>\n",
       "      <td>-</td>\n",
       "      <td>bad</td>\n",
       "      <td>-99.0</td>\n",
       "    </tr>\n",
       "    <tr>\n",
       "      <td>674</td>\n",
       "      <td>Venompool</td>\n",
       "      <td>Male</td>\n",
       "      <td>-</td>\n",
       "      <td>Symbiote</td>\n",
       "      <td>-</td>\n",
       "      <td>226.0</td>\n",
       "      <td>Marvel Comics</td>\n",
       "      <td>-</td>\n",
       "      <td>-</td>\n",
       "      <td>-99.0</td>\n",
       "    </tr>\n",
       "    <tr>\n",
       "      <td>711</td>\n",
       "      <td>Ymir</td>\n",
       "      <td>Male</td>\n",
       "      <td>white</td>\n",
       "      <td>Frost Giant</td>\n",
       "      <td>No Hair</td>\n",
       "      <td>304.8</td>\n",
       "      <td>Marvel Comics</td>\n",
       "      <td>white</td>\n",
       "      <td>good</td>\n",
       "      <td>-99.0</td>\n",
       "    </tr>\n",
       "  </tbody>\n",
       "</table>\n",
       "</div>"
      ],
      "text/plain": [
       "                 name  Gender     Eye color                Race Hair color  \\\n",
       "30       Anti-Monitor    Male        yellow       God / Eternal    No Hair   \n",
       "67         Batwoman V  Female         green               Human        Red   \n",
       "114       Bloodwraith    Male         white                   -    No Hair   \n",
       "118         Boba Fett    Male         brown       Human / Clone      Black   \n",
       "130        Brundlefly    Male             -              Mutant          -   \n",
       "144      Captain Epic    Male          blue                   -      Brown   \n",
       "166      Chuck Norris    Male             -                   -          -   \n",
       "197        Darth Maul    Male  yellow / red  Dathomirian Zabrak          -   \n",
       "222          Dormammu    Male        yellow                   -    No Hair   \n",
       "235        Ethan Hunt    Male         brown               Human      Brown   \n",
       "284            Greedo    Male        purple              Rodian          -   \n",
       "295           Hancock    Male         brown               Human      Black   \n",
       "316            Hollow  Female          blue                   -        Red   \n",
       "339        James Bond    Male          blue               Human      Blond   \n",
       "341     Jar Jar Binks    Male        yellow              Gungan          -   \n",
       "354  John Constantine    Male          blue               Human      Blond   \n",
       "360       Judge Dredd    Male             -               Human          -   \n",
       "365             K-2SO    Male         white             Android    No Hair   \n",
       "413             Magus    Male         black                   -          -   \n",
       "423      Master Chief    Male         brown     Human / Altered      Brown   \n",
       "543               Rey  Female         hazel               Human      Brown   \n",
       "562            Sauron    Male             -               Maiar          -   \n",
       "624      Stormtrooper    Male             -               Human          -   \n",
       "674         Venompool    Male             -            Symbiote          -   \n",
       "711              Ymir    Male         white         Frost Giant    No Hair   \n",
       "\n",
       "     Height         Publisher      Skin color Alignment  Weight  \n",
       "30     61.0         DC Comics               -       bad   -99.0  \n",
       "67    178.0         DC Comics               -      good   -99.0  \n",
       "114    30.5     Marvel Comics               -       bad   -99.0  \n",
       "118   183.0      George Lucas               -       bad   -99.0  \n",
       "130   193.0               NaN               -         -   -99.0  \n",
       "144   188.0      Team Epic TV               -      good   -99.0  \n",
       "166   178.0               NaN               -      good   -99.0  \n",
       "197   170.0      George Lucas     red / black       bad   -99.0  \n",
       "222   185.0     Marvel Comics               -       bad   -99.0  \n",
       "235   168.0               NaN               -      good   -99.0  \n",
       "284   170.0      George Lucas           green       bad   -99.0  \n",
       "295   188.0     Sony Pictures               -      good   -99.0  \n",
       "316   170.0     Marvel Comics               -      good   -99.0  \n",
       "339   183.0       Titan Books               -      good   -99.0  \n",
       "341   193.0      George Lucas  orange / white      good   -99.0  \n",
       "354   183.0         DC Comics               -      good   -99.0  \n",
       "360   188.0         Rebellion               -      good   -99.0  \n",
       "365   213.0      George Lucas            gray      good   -99.0  \n",
       "413   183.0     Marvel Comics               -       bad   -99.0  \n",
       "423   213.0         Microsoft               -      good   -99.0  \n",
       "543   297.0      George Lucas               -      good   -99.0  \n",
       "562   279.0  J. R. R. Tolkien               -       bad   -99.0  \n",
       "624   183.0      George Lucas               -       bad   -99.0  \n",
       "674   226.0     Marvel Comics               -         -   -99.0  \n",
       "711   304.8     Marvel Comics           white      good   -99.0  "
      ]
     },
     "execution_count": 16,
     "metadata": {},
     "output_type": "execute_result"
    }
   ],
   "source": [
    "# These are the 25 characters with a -99.0 weight but *NOT* a -99.0 height\n",
    "heroes_df.loc[(heroes_df['Height'] != -99.0) & (heroes_df['Weight'] == -99.0)]"
   ]
  },
  {
   "cell_type": "code",
   "execution_count": 17,
   "metadata": {
    "scrolled": false
   },
   "outputs": [
    {
     "data": {
      "text/html": [
       "<div>\n",
       "<style scoped>\n",
       "    .dataframe tbody tr th:only-of-type {\n",
       "        vertical-align: middle;\n",
       "    }\n",
       "\n",
       "    .dataframe tbody tr th {\n",
       "        vertical-align: top;\n",
       "    }\n",
       "\n",
       "    .dataframe thead th {\n",
       "        text-align: right;\n",
       "    }\n",
       "</style>\n",
       "<table border=\"1\" class=\"dataframe\">\n",
       "  <thead>\n",
       "    <tr style=\"text-align: right;\">\n",
       "      <th></th>\n",
       "      <th>name</th>\n",
       "      <th>Gender</th>\n",
       "      <th>Eye color</th>\n",
       "      <th>Race</th>\n",
       "      <th>Hair color</th>\n",
       "      <th>Height</th>\n",
       "      <th>Publisher</th>\n",
       "      <th>Skin color</th>\n",
       "      <th>Alignment</th>\n",
       "      <th>Weight</th>\n",
       "    </tr>\n",
       "  </thead>\n",
       "  <tbody>\n",
       "    <tr>\n",
       "      <td>51</td>\n",
       "      <td>Atom IV</td>\n",
       "      <td>Male</td>\n",
       "      <td>brown</td>\n",
       "      <td>-</td>\n",
       "      <td>Black</td>\n",
       "      <td>-99.0</td>\n",
       "      <td>DC Comics</td>\n",
       "      <td>-</td>\n",
       "      <td>good</td>\n",
       "      <td>72.0</td>\n",
       "    </tr>\n",
       "    <tr>\n",
       "      <td>334</td>\n",
       "      <td>Iron Monger</td>\n",
       "      <td>Male</td>\n",
       "      <td>blue</td>\n",
       "      <td>-</td>\n",
       "      <td>No Hair</td>\n",
       "      <td>-99.0</td>\n",
       "      <td>Marvel Comics</td>\n",
       "      <td>-</td>\n",
       "      <td>bad</td>\n",
       "      <td>2.0</td>\n",
       "    </tr>\n",
       "    <tr>\n",
       "      <td>635</td>\n",
       "      <td>T-800</td>\n",
       "      <td>Male</td>\n",
       "      <td>red</td>\n",
       "      <td>Cyborg</td>\n",
       "      <td>-</td>\n",
       "      <td>-99.0</td>\n",
       "      <td>Dark Horse Comics</td>\n",
       "      <td>-</td>\n",
       "      <td>bad</td>\n",
       "      <td>176.0</td>\n",
       "    </tr>\n",
       "    <tr>\n",
       "      <td>636</td>\n",
       "      <td>T-850</td>\n",
       "      <td>Male</td>\n",
       "      <td>red</td>\n",
       "      <td>Cyborg</td>\n",
       "      <td>-</td>\n",
       "      <td>-99.0</td>\n",
       "      <td>Dark Horse Comics</td>\n",
       "      <td>-</td>\n",
       "      <td>bad</td>\n",
       "      <td>198.0</td>\n",
       "    </tr>\n",
       "    <tr>\n",
       "      <td>637</td>\n",
       "      <td>T-X</td>\n",
       "      <td>Female</td>\n",
       "      <td>-</td>\n",
       "      <td>Cyborg</td>\n",
       "      <td>-</td>\n",
       "      <td>-99.0</td>\n",
       "      <td>Dark Horse Comics</td>\n",
       "      <td>silver</td>\n",
       "      <td>bad</td>\n",
       "      <td>149.0</td>\n",
       "    </tr>\n",
       "  </tbody>\n",
       "</table>\n",
       "</div>"
      ],
      "text/plain": [
       "            name  Gender Eye color    Race Hair color  Height  \\\n",
       "51       Atom IV    Male     brown       -      Black   -99.0   \n",
       "334  Iron Monger    Male      blue       -    No Hair   -99.0   \n",
       "635        T-800    Male       red  Cyborg          -   -99.0   \n",
       "636        T-850    Male       red  Cyborg          -   -99.0   \n",
       "637          T-X  Female         -  Cyborg          -   -99.0   \n",
       "\n",
       "             Publisher Skin color Alignment  Weight  \n",
       "51           DC Comics          -      good    72.0  \n",
       "334      Marvel Comics          -       bad     2.0  \n",
       "635  Dark Horse Comics          -       bad   176.0  \n",
       "636  Dark Horse Comics          -       bad   198.0  \n",
       "637  Dark Horse Comics     silver       bad   149.0  "
      ]
     },
     "execution_count": 17,
     "metadata": {},
     "output_type": "execute_result"
    }
   ],
   "source": [
    "# These are the 5 characters with a -99.0 height but *NOT* a -99.0 weight\n",
    "heroes_df.loc[(heroes_df['Height'] == -99.0) & (heroes_df['Weight'] != -99.0)]"
   ]
  },
  {
   "cell_type": "code",
   "execution_count": 18,
   "metadata": {
    "scrolled": false
   },
   "outputs": [
    {
     "name": "stdout",
     "output_type": "stream",
     "text": [
      "min         2.00000\n",
      "max       900.00000\n",
      "mean      112.85124\n",
      "median     81.00000\n",
      "Name: Weight, dtype: float64\n"
     ]
    },
    {
     "data": {
      "text/plain": [
       "<matplotlib.axes._subplots.AxesSubplot at 0x1ef27329c18>"
      ]
     },
     "execution_count": 18,
     "metadata": {},
     "output_type": "execute_result"
    },
    {
     "data": {
      "image/png": "[encoded data removed]",
      "text/plain": [
       "<Figure size 432x288 with 1 Axes>"
      ]
     },
     "metadata": {
      "needs_background": "light"
     },
     "output_type": "display_data"
    }
   ],
   "source": [
    "# We want to create a subset of heroes which *DO* have their weights and not just a placeholder\n",
    "# what are the measures of central dispersion for Weight for this subset?\n",
    "# what does the distribution of the Weight looks like across the dataset with all the placeholders removed?\n",
    "with_weights = heroes_df[heroes_df['Weight'] != -99.0]\n",
    "with_weights_disp = with_weights.agg(['mean','median','min','max'])\n",
    "print(with_weights_disp['Weight'])\n",
    "with_weights['Weight'].plot(kind='hist')"
   ]
  },
  {
   "cell_type": "markdown",
   "metadata": {},
   "source": [
    "It looks like there are a few outliers with weights more than 300. How many superheroes are there that weight more than 300?"
   ]
  },
  {
   "cell_type": "code",
   "execution_count": 19,
   "metadata": {
    "scrolled": false
   },
   "outputs": [
    {
     "data": {
      "text/plain": [
       "name          28\n",
       "Gender        28\n",
       "Eye color     28\n",
       "Race          28\n",
       "Hair color    28\n",
       "Height        28\n",
       "Publisher     28\n",
       "Skin color    28\n",
       "Alignment     28\n",
       "Weight        28\n",
       "dtype: int64"
      ]
     },
     "execution_count": 19,
     "metadata": {},
     "output_type": "execute_result"
    }
   ],
   "source": [
    "with_weights.loc[with_weights['Weight'] > 300].count()"
   ]
  },
  {
   "cell_type": "markdown",
   "metadata": {},
   "source": [
    "Will the data be more representative if we exclude heroes with weights more than 300?"
   ]
  },
  {
   "cell_type": "code",
   "execution_count": 20,
   "metadata": {
    "scrolled": false
   },
   "outputs": [
    {
     "name": "stdout",
     "output_type": "stream",
     "text": [
      "mean       91.640351\n",
      "median     81.000000\n",
      "min         2.000000\n",
      "max       293.000000\n",
      "Name: Weight, dtype: float64\n"
     ]
    }
   ],
   "source": [
    "with_weights_300 = with_weights[with_weights['Weight'] < 300]\n",
    "print(with_weights_300['Weight'].agg(['mean','median','min','max']))"
   ]
  },
  {
   "cell_type": "markdown",
   "metadata": {},
   "source": [
    "The median of the subset of heroes with the outliers stripped out is the same as the median of the subset of heroes with actual weights recorded (81 in each case). It made no difference that we stripped out the outliers. Therefore, it seems like the median is a reasonable replacement for the -99.0 placeholder for weights."
   ]
  },
  {
   "cell_type": "code",
   "execution_count": 21,
   "metadata": {
    "scrolled": false
   },
   "outputs": [
    {
     "data": {
      "text/plain": [
       "81.0     251\n",
       "54.0      23\n",
       "79.0      23\n",
       "90.0      19\n",
       "52.0      15\n",
       "        ... \n",
       "412.0      1\n",
       "38.0       1\n",
       "96.0       1\n",
       "320.0      1\n",
       "855.0      1\n",
       "Name: Weight, Length: 132, dtype: int64"
      ]
     },
     "execution_count": 21,
     "metadata": {},
     "output_type": "execute_result"
    }
   ],
   "source": [
    "#replace the weight placeholder with the median 81\n",
    "#compare the distribution now with the previous distribution of weights to ensure this has been done correctly.\n",
    "heroes_df.loc[heroes_df['Weight'] == -99.0, 'Weight'] = 81\n",
    "heroes_df['Weight'].value_counts()"
   ]
  },
  {
   "cell_type": "markdown",
   "metadata": {},
   "source": [
    "The same approach can be taken to replacing the placeholder -99.0 values for Height."
   ]
  },
  {
   "cell_type": "code",
   "execution_count": 22,
   "metadata": {
    "scrolled": false
   },
   "outputs": [
    {
     "name": "stdout",
     "output_type": "stream",
     "text": [
      "min        15.200000\n",
      "max       975.000000\n",
      "mean      186.884387\n",
      "median    183.000000\n",
      "Name: Height, dtype: float64\n"
     ]
    },
    {
     "data": {
      "text/plain": [
       "<matplotlib.axes._subplots.AxesSubplot at 0x1ef2733c6d8>"
      ]
     },
     "execution_count": 22,
     "metadata": {},
     "output_type": "execute_result"
    },
    {
     "data": {
      "image/png": "[encoded data removed]",
      "text/plain": [
       "<Figure size 432x288 with 1 Axes>"
      ]
     },
     "metadata": {
      "needs_background": "light"
     },
     "output_type": "display_data"
    }
   ],
   "source": [
    "# the following shows the central disperson and distribution of Heights for characters with a specified Height\n",
    "with_heights = heroes_df[heroes_df['Height'] != -99.0]\n",
    "with_heights_disp = with_heights.agg(['mean','median','min','max'])\n",
    "print(with_heights_disp['Height'])\n",
    "with_heights['Height'].plot(kind='hist')"
   ]
  },
  {
   "cell_type": "markdown",
   "metadata": {},
   "source": [
    "Reviewing the histogram above, the distribution for Height isn't as skewed as it is for Weight. Stripping out the outliers didn't make a difference to the median value then and should make even less of a difference to the median value of Height. Therefore, the median of this subset of characters, for which a Height is available, should be a good proxy to use to fill in the placeholder -99.0. This median value is 183."
   ]
  },
  {
   "cell_type": "code",
   "execution_count": 23,
   "metadata": {
    "scrolled": true
   },
   "outputs": [
    {
     "data": {
      "text/plain": [
       "183.0    268\n",
       "188.0     49\n",
       "180.0     38\n",
       "178.0     37\n",
       "185.0     35\n",
       "175.0     34\n",
       "168.0     29\n",
       "165.0     26\n",
       "170.0     24\n",
       "193.0     20\n",
       "191.0     20\n",
       "173.0     17\n",
       "198.0     17\n",
       "196.0     11\n",
       "201.0     11\n",
       "163.0      7\n",
       "213.0      7\n",
       "203.0      5\n",
       "211.0      5\n",
       "157.0      4\n",
       "244.0      4\n",
       "229.0      3\n",
       "155.0      3\n",
       "218.0      3\n",
       "226.0      3\n",
       "122.0      2\n",
       "30.5       2\n",
       "206.0      2\n",
       "305.0      2\n",
       "137.0      2\n",
       "279.0      2\n",
       "366.0      2\n",
       "234.0      1\n",
       "297.0      1\n",
       "267.0      1\n",
       "304.8      1\n",
       "701.0      1\n",
       "61.0       1\n",
       "876.0      1\n",
       "259.0      1\n",
       "15.2       1\n",
       "287.0      1\n",
       "71.0       1\n",
       "257.0      1\n",
       "66.0       1\n",
       "160.0      1\n",
       "140.0      1\n",
       "64.0       1\n",
       "142.0      1\n",
       "62.5       1\n",
       "108.0      1\n",
       "79.0       1\n",
       "975.0      1\n",
       "Name: Height, dtype: int64"
      ]
     },
     "execution_count": 23,
     "metadata": {},
     "output_type": "execute_result"
    }
   ],
   "source": [
    "# replace the height placeholder with the median 183\n",
    "# compare the distribution now with the previous distribution of weights to ensure this has been done correctly.\n",
    "heroes_df.loc[heroes_df['Height'] == -99.0, 'Height'] = 183\n",
    "heroes_df['Height'].value_counts()"
   ]
  },
  {
   "cell_type": "markdown",
   "metadata": {},
   "source": [
    "From the analysis above, there are 15 missing values in relation to the Publisher and 2 in relation to the Weight. Its probably safe to drop the 17 data points from the 734 entries available in the whole set without distorting the data unduly."
   ]
  },
  {
   "cell_type": "code",
   "execution_count": 24,
   "metadata": {
    "scrolled": false
   },
   "outputs": [],
   "source": [
    "# Its probably safe to drop rows where there are missing values either in relation to the publisher or to the Weight.\n",
    "# Dropping entries where there are missing values for the Publisher or Weight.\n",
    "heroes_clean_df = heroes_df.dropna()"
   ]
  },
  {
   "cell_type": "code",
   "execution_count": 25,
   "metadata": {
    "scrolled": false
   },
   "outputs": [
    {
     "data": {
      "text/html": [
       "<div>\n",
       "<style scoped>\n",
       "    .dataframe tbody tr th:only-of-type {\n",
       "        vertical-align: middle;\n",
       "    }\n",
       "\n",
       "    .dataframe tbody tr th {\n",
       "        vertical-align: top;\n",
       "    }\n",
       "\n",
       "    .dataframe thead th {\n",
       "        text-align: right;\n",
       "    }\n",
       "</style>\n",
       "<table border=\"1\" class=\"dataframe\">\n",
       "  <thead>\n",
       "    <tr style=\"text-align: right;\">\n",
       "      <th></th>\n",
       "      <th>name</th>\n",
       "      <th>Gender</th>\n",
       "      <th>Eye color</th>\n",
       "      <th>Race</th>\n",
       "      <th>Hair color</th>\n",
       "      <th>Height</th>\n",
       "      <th>Publisher</th>\n",
       "      <th>Skin color</th>\n",
       "      <th>Alignment</th>\n",
       "      <th>Weight</th>\n",
       "    </tr>\n",
       "  </thead>\n",
       "  <tbody>\n",
       "    <tr>\n",
       "      <td>0</td>\n",
       "      <td>A-Bomb</td>\n",
       "      <td>Male</td>\n",
       "      <td>yellow</td>\n",
       "      <td>Human</td>\n",
       "      <td>No Hair</td>\n",
       "      <td>203.0</td>\n",
       "      <td>Marvel Comics</td>\n",
       "      <td>-</td>\n",
       "      <td>good</td>\n",
       "      <td>441.0</td>\n",
       "    </tr>\n",
       "    <tr>\n",
       "      <td>1</td>\n",
       "      <td>Abe Sapien</td>\n",
       "      <td>Male</td>\n",
       "      <td>blue</td>\n",
       "      <td>Icthyo Sapien</td>\n",
       "      <td>No Hair</td>\n",
       "      <td>191.0</td>\n",
       "      <td>Dark Horse Comics</td>\n",
       "      <td>blue</td>\n",
       "      <td>good</td>\n",
       "      <td>65.0</td>\n",
       "    </tr>\n",
       "    <tr>\n",
       "      <td>2</td>\n",
       "      <td>Abin Sur</td>\n",
       "      <td>Male</td>\n",
       "      <td>blue</td>\n",
       "      <td>Ungaran</td>\n",
       "      <td>No Hair</td>\n",
       "      <td>185.0</td>\n",
       "      <td>DC Comics</td>\n",
       "      <td>red</td>\n",
       "      <td>good</td>\n",
       "      <td>90.0</td>\n",
       "    </tr>\n",
       "    <tr>\n",
       "      <td>3</td>\n",
       "      <td>Abomination</td>\n",
       "      <td>Male</td>\n",
       "      <td>green</td>\n",
       "      <td>Human / Radiation</td>\n",
       "      <td>No Hair</td>\n",
       "      <td>203.0</td>\n",
       "      <td>Marvel Comics</td>\n",
       "      <td>-</td>\n",
       "      <td>bad</td>\n",
       "      <td>441.0</td>\n",
       "    </tr>\n",
       "    <tr>\n",
       "      <td>4</td>\n",
       "      <td>Abraxas</td>\n",
       "      <td>Male</td>\n",
       "      <td>blue</td>\n",
       "      <td>Cosmic Entity</td>\n",
       "      <td>Black</td>\n",
       "      <td>183.0</td>\n",
       "      <td>Marvel Comics</td>\n",
       "      <td>-</td>\n",
       "      <td>bad</td>\n",
       "      <td>81.0</td>\n",
       "    </tr>\n",
       "    <tr>\n",
       "      <td>...</td>\n",
       "      <td>...</td>\n",
       "      <td>...</td>\n",
       "      <td>...</td>\n",
       "      <td>...</td>\n",
       "      <td>...</td>\n",
       "      <td>...</td>\n",
       "      <td>...</td>\n",
       "      <td>...</td>\n",
       "      <td>...</td>\n",
       "      <td>...</td>\n",
       "    </tr>\n",
       "    <tr>\n",
       "      <td>695</td>\n",
       "      <td>Yellowjacket II</td>\n",
       "      <td>Female</td>\n",
       "      <td>blue</td>\n",
       "      <td>Human</td>\n",
       "      <td>Strawberry Blond</td>\n",
       "      <td>165.0</td>\n",
       "      <td>Marvel Comics</td>\n",
       "      <td>-</td>\n",
       "      <td>good</td>\n",
       "      <td>52.0</td>\n",
       "    </tr>\n",
       "    <tr>\n",
       "      <td>696</td>\n",
       "      <td>Ymir</td>\n",
       "      <td>Male</td>\n",
       "      <td>white</td>\n",
       "      <td>Frost Giant</td>\n",
       "      <td>No Hair</td>\n",
       "      <td>304.8</td>\n",
       "      <td>Marvel Comics</td>\n",
       "      <td>white</td>\n",
       "      <td>good</td>\n",
       "      <td>81.0</td>\n",
       "    </tr>\n",
       "    <tr>\n",
       "      <td>697</td>\n",
       "      <td>Yoda</td>\n",
       "      <td>Male</td>\n",
       "      <td>brown</td>\n",
       "      <td>Yoda's species</td>\n",
       "      <td>White</td>\n",
       "      <td>66.0</td>\n",
       "      <td>George Lucas</td>\n",
       "      <td>green</td>\n",
       "      <td>good</td>\n",
       "      <td>17.0</td>\n",
       "    </tr>\n",
       "    <tr>\n",
       "      <td>698</td>\n",
       "      <td>Zatanna</td>\n",
       "      <td>Female</td>\n",
       "      <td>blue</td>\n",
       "      <td>Human</td>\n",
       "      <td>Black</td>\n",
       "      <td>170.0</td>\n",
       "      <td>DC Comics</td>\n",
       "      <td>-</td>\n",
       "      <td>good</td>\n",
       "      <td>57.0</td>\n",
       "    </tr>\n",
       "    <tr>\n",
       "      <td>699</td>\n",
       "      <td>Zoom</td>\n",
       "      <td>Male</td>\n",
       "      <td>red</td>\n",
       "      <td>-</td>\n",
       "      <td>Brown</td>\n",
       "      <td>185.0</td>\n",
       "      <td>DC Comics</td>\n",
       "      <td>-</td>\n",
       "      <td>bad</td>\n",
       "      <td>81.0</td>\n",
       "    </tr>\n",
       "  </tbody>\n",
       "</table>\n",
       "<p>700 rows × 10 columns</p>\n",
       "</div>"
      ],
      "text/plain": [
       "                name  Gender Eye color               Race        Hair color  \\\n",
       "0             A-Bomb    Male    yellow              Human           No Hair   \n",
       "1         Abe Sapien    Male      blue      Icthyo Sapien           No Hair   \n",
       "2           Abin Sur    Male      blue            Ungaran           No Hair   \n",
       "3        Abomination    Male     green  Human / Radiation           No Hair   \n",
       "4            Abraxas    Male      blue      Cosmic Entity             Black   \n",
       "..               ...     ...       ...                ...               ...   \n",
       "695  Yellowjacket II  Female      blue              Human  Strawberry Blond   \n",
       "696             Ymir    Male     white        Frost Giant           No Hair   \n",
       "697             Yoda    Male     brown     Yoda's species             White   \n",
       "698          Zatanna  Female      blue              Human             Black   \n",
       "699             Zoom    Male       red                  -             Brown   \n",
       "\n",
       "     Height          Publisher Skin color Alignment  Weight  \n",
       "0     203.0      Marvel Comics          -      good   441.0  \n",
       "1     191.0  Dark Horse Comics       blue      good    65.0  \n",
       "2     185.0          DC Comics        red      good    90.0  \n",
       "3     203.0      Marvel Comics          -       bad   441.0  \n",
       "4     183.0      Marvel Comics          -       bad    81.0  \n",
       "..      ...                ...        ...       ...     ...  \n",
       "695   165.0      Marvel Comics          -      good    52.0  \n",
       "696   304.8      Marvel Comics      white      good    81.0  \n",
       "697    66.0       George Lucas      green      good    17.0  \n",
       "698   170.0          DC Comics          -      good    57.0  \n",
       "699   185.0          DC Comics          -       bad    81.0  \n",
       "\n",
       "[700 rows x 10 columns]"
      ]
     },
     "execution_count": 25,
     "metadata": {},
     "output_type": "execute_result"
    }
   ],
   "source": [
    "heroes_clean_df.reset_index(drop=True, inplace=True)\n",
    "heroes_clean_df"
   ]
  },
  {
   "cell_type": "markdown",
   "metadata": {},
   "source": [
    "Therefore, the clean dataframe, stripped of all placeholder values, duplicate values and missing entries should be a 718 entry dataframe called \"heroes_clean_df\""
   ]
  },
  {
   "cell_type": "markdown",
   "metadata": {},
   "source": [
    "## Joining, Grouping, and Aggregating\n",
    "\n",
    "In the cell below, join the two DataFrames.  Think about which sort of join you should use, as well as which columns you should join on.  Rename columns and manipulate as needed.  \n",
    "\n",
    "**_HINT:_** Consider the possibility that the columns you choose to join on contain duplicate entries. If that is the case, devise a strategy to deal with the duplicates.\n",
    "\n",
    "**_HINT:_** If the join throws an error message, consider setting the column you want to join on as the index for each DataFrame.  "
   ]
  },
  {
   "cell_type": "code",
   "execution_count": 26,
   "metadata": {
    "scrolled": false
   },
   "outputs": [],
   "source": [
    "# use inner join because you want to join up the heroes that exist in heroes_clean_df with the respective\n",
    "# powers in powers_df. Powers_df contains heroes that don't exist in heroes_clean_df. \n",
    "# Since we don't want heroes in powers_df that don't appear in heroes_clean_df, we can exclude them by executing an inner join\n",
    "# thus ensuring that the heroes in the joined df appear in both powers_df and heroes_clean_df\n",
    "joined_df = heroes_clean_df.join(powers_df, how='inner')"
   ]
  },
  {
   "cell_type": "code",
   "execution_count": 27,
   "metadata": {
    "scrolled": false
   },
   "outputs": [
    {
     "data": {
      "text/html": [
       "<div>\n",
       "<style scoped>\n",
       "    .dataframe tbody tr th:only-of-type {\n",
       "        vertical-align: middle;\n",
       "    }\n",
       "\n",
       "    .dataframe tbody tr th {\n",
       "        vertical-align: top;\n",
       "    }\n",
       "\n",
       "    .dataframe thead th {\n",
       "        text-align: right;\n",
       "    }\n",
       "</style>\n",
       "<table border=\"1\" class=\"dataframe\">\n",
       "  <thead>\n",
       "    <tr style=\"text-align: right;\">\n",
       "      <th></th>\n",
       "      <th>name</th>\n",
       "      <th>Gender</th>\n",
       "      <th>Eye color</th>\n",
       "      <th>Race</th>\n",
       "      <th>Hair color</th>\n",
       "      <th>Height</th>\n",
       "      <th>Publisher</th>\n",
       "      <th>Skin color</th>\n",
       "      <th>Alignment</th>\n",
       "      <th>Weight</th>\n",
       "      <th>...</th>\n",
       "      <th>Web Creation</th>\n",
       "      <th>Reality Warping</th>\n",
       "      <th>Odin Force</th>\n",
       "      <th>Symbiote Costume</th>\n",
       "      <th>Speed Force</th>\n",
       "      <th>Phoenix Force</th>\n",
       "      <th>Molecular Dissipation</th>\n",
       "      <th>Vision - Cryo</th>\n",
       "      <th>Omnipresent</th>\n",
       "      <th>Omniscient</th>\n",
       "    </tr>\n",
       "  </thead>\n",
       "  <tbody>\n",
       "    <tr>\n",
       "      <td>0</td>\n",
       "      <td>A-Bomb</td>\n",
       "      <td>Male</td>\n",
       "      <td>yellow</td>\n",
       "      <td>Human</td>\n",
       "      <td>No Hair</td>\n",
       "      <td>203.0</td>\n",
       "      <td>Marvel Comics</td>\n",
       "      <td>-</td>\n",
       "      <td>good</td>\n",
       "      <td>441.0</td>\n",
       "      <td>...</td>\n",
       "      <td>False</td>\n",
       "      <td>False</td>\n",
       "      <td>False</td>\n",
       "      <td>False</td>\n",
       "      <td>False</td>\n",
       "      <td>False</td>\n",
       "      <td>False</td>\n",
       "      <td>False</td>\n",
       "      <td>False</td>\n",
       "      <td>False</td>\n",
       "    </tr>\n",
       "    <tr>\n",
       "      <td>1</td>\n",
       "      <td>Abe Sapien</td>\n",
       "      <td>Male</td>\n",
       "      <td>blue</td>\n",
       "      <td>Icthyo Sapien</td>\n",
       "      <td>No Hair</td>\n",
       "      <td>191.0</td>\n",
       "      <td>Dark Horse Comics</td>\n",
       "      <td>blue</td>\n",
       "      <td>good</td>\n",
       "      <td>65.0</td>\n",
       "      <td>...</td>\n",
       "      <td>False</td>\n",
       "      <td>False</td>\n",
       "      <td>False</td>\n",
       "      <td>False</td>\n",
       "      <td>False</td>\n",
       "      <td>False</td>\n",
       "      <td>False</td>\n",
       "      <td>False</td>\n",
       "      <td>False</td>\n",
       "      <td>False</td>\n",
       "    </tr>\n",
       "    <tr>\n",
       "      <td>2</td>\n",
       "      <td>Abin Sur</td>\n",
       "      <td>Male</td>\n",
       "      <td>blue</td>\n",
       "      <td>Ungaran</td>\n",
       "      <td>No Hair</td>\n",
       "      <td>185.0</td>\n",
       "      <td>DC Comics</td>\n",
       "      <td>red</td>\n",
       "      <td>good</td>\n",
       "      <td>90.0</td>\n",
       "      <td>...</td>\n",
       "      <td>False</td>\n",
       "      <td>False</td>\n",
       "      <td>False</td>\n",
       "      <td>False</td>\n",
       "      <td>False</td>\n",
       "      <td>False</td>\n",
       "      <td>False</td>\n",
       "      <td>False</td>\n",
       "      <td>False</td>\n",
       "      <td>False</td>\n",
       "    </tr>\n",
       "    <tr>\n",
       "      <td>3</td>\n",
       "      <td>Abomination</td>\n",
       "      <td>Male</td>\n",
       "      <td>green</td>\n",
       "      <td>Human / Radiation</td>\n",
       "      <td>No Hair</td>\n",
       "      <td>203.0</td>\n",
       "      <td>Marvel Comics</td>\n",
       "      <td>-</td>\n",
       "      <td>bad</td>\n",
       "      <td>441.0</td>\n",
       "      <td>...</td>\n",
       "      <td>False</td>\n",
       "      <td>False</td>\n",
       "      <td>False</td>\n",
       "      <td>False</td>\n",
       "      <td>False</td>\n",
       "      <td>False</td>\n",
       "      <td>False</td>\n",
       "      <td>False</td>\n",
       "      <td>False</td>\n",
       "      <td>False</td>\n",
       "    </tr>\n",
       "    <tr>\n",
       "      <td>4</td>\n",
       "      <td>Abraxas</td>\n",
       "      <td>Male</td>\n",
       "      <td>blue</td>\n",
       "      <td>Cosmic Entity</td>\n",
       "      <td>Black</td>\n",
       "      <td>183.0</td>\n",
       "      <td>Marvel Comics</td>\n",
       "      <td>-</td>\n",
       "      <td>bad</td>\n",
       "      <td>81.0</td>\n",
       "      <td>...</td>\n",
       "      <td>False</td>\n",
       "      <td>False</td>\n",
       "      <td>False</td>\n",
       "      <td>False</td>\n",
       "      <td>False</td>\n",
       "      <td>False</td>\n",
       "      <td>False</td>\n",
       "      <td>False</td>\n",
       "      <td>False</td>\n",
       "      <td>False</td>\n",
       "    </tr>\n",
       "    <tr>\n",
       "      <td>...</td>\n",
       "      <td>...</td>\n",
       "      <td>...</td>\n",
       "      <td>...</td>\n",
       "      <td>...</td>\n",
       "      <td>...</td>\n",
       "      <td>...</td>\n",
       "      <td>...</td>\n",
       "      <td>...</td>\n",
       "      <td>...</td>\n",
       "      <td>...</td>\n",
       "      <td>...</td>\n",
       "      <td>...</td>\n",
       "      <td>...</td>\n",
       "      <td>...</td>\n",
       "      <td>...</td>\n",
       "      <td>...</td>\n",
       "      <td>...</td>\n",
       "      <td>...</td>\n",
       "      <td>...</td>\n",
       "      <td>...</td>\n",
       "      <td>...</td>\n",
       "    </tr>\n",
       "    <tr>\n",
       "      <td>662</td>\n",
       "      <td>Vindicator</td>\n",
       "      <td>Female</td>\n",
       "      <td>green</td>\n",
       "      <td>Human</td>\n",
       "      <td>Red</td>\n",
       "      <td>165.0</td>\n",
       "      <td>Marvel Comics</td>\n",
       "      <td>-</td>\n",
       "      <td>good</td>\n",
       "      <td>54.0</td>\n",
       "      <td>...</td>\n",
       "      <td>False</td>\n",
       "      <td>False</td>\n",
       "      <td>False</td>\n",
       "      <td>False</td>\n",
       "      <td>False</td>\n",
       "      <td>False</td>\n",
       "      <td>False</td>\n",
       "      <td>False</td>\n",
       "      <td>False</td>\n",
       "      <td>False</td>\n",
       "    </tr>\n",
       "    <tr>\n",
       "      <td>663</td>\n",
       "      <td>Violator</td>\n",
       "      <td>Male</td>\n",
       "      <td>-</td>\n",
       "      <td>-</td>\n",
       "      <td>-</td>\n",
       "      <td>183.0</td>\n",
       "      <td>Image Comics</td>\n",
       "      <td>-</td>\n",
       "      <td>bad</td>\n",
       "      <td>81.0</td>\n",
       "      <td>...</td>\n",
       "      <td>False</td>\n",
       "      <td>False</td>\n",
       "      <td>False</td>\n",
       "      <td>False</td>\n",
       "      <td>False</td>\n",
       "      <td>False</td>\n",
       "      <td>False</td>\n",
       "      <td>False</td>\n",
       "      <td>False</td>\n",
       "      <td>False</td>\n",
       "    </tr>\n",
       "    <tr>\n",
       "      <td>664</td>\n",
       "      <td>Violet Parr</td>\n",
       "      <td>Female</td>\n",
       "      <td>violet</td>\n",
       "      <td>Human</td>\n",
       "      <td>Black</td>\n",
       "      <td>137.0</td>\n",
       "      <td>Dark Horse Comics</td>\n",
       "      <td>-</td>\n",
       "      <td>good</td>\n",
       "      <td>41.0</td>\n",
       "      <td>...</td>\n",
       "      <td>False</td>\n",
       "      <td>False</td>\n",
       "      <td>False</td>\n",
       "      <td>False</td>\n",
       "      <td>False</td>\n",
       "      <td>False</td>\n",
       "      <td>False</td>\n",
       "      <td>False</td>\n",
       "      <td>False</td>\n",
       "      <td>False</td>\n",
       "    </tr>\n",
       "    <tr>\n",
       "      <td>665</td>\n",
       "      <td>Vision</td>\n",
       "      <td>Male</td>\n",
       "      <td>gold</td>\n",
       "      <td>Android</td>\n",
       "      <td>No Hair</td>\n",
       "      <td>191.0</td>\n",
       "      <td>Marvel Comics</td>\n",
       "      <td>red</td>\n",
       "      <td>good</td>\n",
       "      <td>135.0</td>\n",
       "      <td>...</td>\n",
       "      <td>False</td>\n",
       "      <td>False</td>\n",
       "      <td>False</td>\n",
       "      <td>False</td>\n",
       "      <td>False</td>\n",
       "      <td>False</td>\n",
       "      <td>False</td>\n",
       "      <td>False</td>\n",
       "      <td>False</td>\n",
       "      <td>False</td>\n",
       "    </tr>\n",
       "    <tr>\n",
       "      <td>666</td>\n",
       "      <td>Vision II</td>\n",
       "      <td>-</td>\n",
       "      <td>red</td>\n",
       "      <td>-</td>\n",
       "      <td>No Hair</td>\n",
       "      <td>191.0</td>\n",
       "      <td>Marvel Comics</td>\n",
       "      <td>-</td>\n",
       "      <td>good</td>\n",
       "      <td>135.0</td>\n",
       "      <td>...</td>\n",
       "      <td>False</td>\n",
       "      <td>False</td>\n",
       "      <td>False</td>\n",
       "      <td>False</td>\n",
       "      <td>False</td>\n",
       "      <td>False</td>\n",
       "      <td>False</td>\n",
       "      <td>False</td>\n",
       "      <td>False</td>\n",
       "      <td>False</td>\n",
       "    </tr>\n",
       "  </tbody>\n",
       "</table>\n",
       "<p>667 rows × 178 columns</p>\n",
       "</div>"
      ],
      "text/plain": [
       "            name  Gender Eye color               Race Hair color  Height  \\\n",
       "0         A-Bomb    Male    yellow              Human    No Hair   203.0   \n",
       "1     Abe Sapien    Male      blue      Icthyo Sapien    No Hair   191.0   \n",
       "2       Abin Sur    Male      blue            Ungaran    No Hair   185.0   \n",
       "3    Abomination    Male     green  Human / Radiation    No Hair   203.0   \n",
       "4        Abraxas    Male      blue      Cosmic Entity      Black   183.0   \n",
       "..           ...     ...       ...                ...        ...     ...   \n",
       "662   Vindicator  Female     green              Human        Red   165.0   \n",
       "663     Violator    Male         -                  -          -   183.0   \n",
       "664  Violet Parr  Female    violet              Human      Black   137.0   \n",
       "665       Vision    Male      gold            Android    No Hair   191.0   \n",
       "666    Vision II       -       red                  -    No Hair   191.0   \n",
       "\n",
       "             Publisher Skin color Alignment  Weight  ... Web Creation  \\\n",
       "0        Marvel Comics          -      good   441.0  ...        False   \n",
       "1    Dark Horse Comics       blue      good    65.0  ...        False   \n",
       "2            DC Comics        red      good    90.0  ...        False   \n",
       "3        Marvel Comics          -       bad   441.0  ...        False   \n",
       "4        Marvel Comics          -       bad    81.0  ...        False   \n",
       "..                 ...        ...       ...     ...  ...          ...   \n",
       "662      Marvel Comics          -      good    54.0  ...        False   \n",
       "663       Image Comics          -       bad    81.0  ...        False   \n",
       "664  Dark Horse Comics          -      good    41.0  ...        False   \n",
       "665      Marvel Comics        red      good   135.0  ...        False   \n",
       "666      Marvel Comics          -      good   135.0  ...        False   \n",
       "\n",
       "     Reality Warping  Odin Force  Symbiote Costume  Speed Force  \\\n",
       "0              False       False             False        False   \n",
       "1              False       False             False        False   \n",
       "2              False       False             False        False   \n",
       "3              False       False             False        False   \n",
       "4              False       False             False        False   \n",
       "..               ...         ...               ...          ...   \n",
       "662            False       False             False        False   \n",
       "663            False       False             False        False   \n",
       "664            False       False             False        False   \n",
       "665            False       False             False        False   \n",
       "666            False       False             False        False   \n",
       "\n",
       "     Phoenix Force  Molecular Dissipation  Vision - Cryo  Omnipresent  \\\n",
       "0            False                  False          False        False   \n",
       "1            False                  False          False        False   \n",
       "2            False                  False          False        False   \n",
       "3            False                  False          False        False   \n",
       "4            False                  False          False        False   \n",
       "..             ...                    ...            ...          ...   \n",
       "662          False                  False          False        False   \n",
       "663          False                  False          False        False   \n",
       "664          False                  False          False        False   \n",
       "665          False                  False          False        False   \n",
       "666          False                  False          False        False   \n",
       "\n",
       "     Omniscient  \n",
       "0         False  \n",
       "1         False  \n",
       "2         False  \n",
       "3         False  \n",
       "4         False  \n",
       "..          ...  \n",
       "662       False  \n",
       "663       False  \n",
       "664       False  \n",
       "665       False  \n",
       "666       False  \n",
       "\n",
       "[667 rows x 178 columns]"
      ]
     },
     "execution_count": 27,
     "metadata": {},
     "output_type": "execute_result"
    }
   ],
   "source": [
    "joined_df"
   ]
  },
  {
   "cell_type": "markdown",
   "metadata": {},
   "source": [
    "Are there any missing values in the joined_df?"
   ]
  },
  {
   "cell_type": "code",
   "execution_count": 28,
   "metadata": {
    "scrolled": false
   },
   "outputs": [
    {
     "data": {
      "text/plain": [
       "False"
      ]
     },
     "execution_count": 28,
     "metadata": {},
     "output_type": "execute_result"
    }
   ],
   "source": [
    "# chaining 2 any() methods like that is very useful\n",
    "joined_df.isna().any().any()"
   ]
  },
  {
   "cell_type": "code",
   "execution_count": 29,
   "metadata": {
    "scrolled": false
   },
   "outputs": [
    {
     "name": "stdout",
     "output_type": "stream",
     "text": [
      "<class 'pandas.core.frame.DataFrame'>\n",
      "Int64Index: 667 entries, 0 to 666\n",
      "Columns: 178 entries, name to Omniscient\n",
      "dtypes: bool(167), float64(2), object(9)\n",
      "memory usage: 171.3+ KB\n"
     ]
    }
   ],
   "source": [
    "joined_df.info()"
   ]
  },
  {
   "cell_type": "markdown",
   "metadata": {},
   "source": [
    "In the cell below, subset male and female heroes into different dataframes.  Create a scatterplot of the height and weight of each hero, with weight as the y-axis.  Plot both the male and female heroes subset into each dataframe, and make the color for each point in the scatterplot correspond to the gender of the superhero."
   ]
  },
  {
   "cell_type": "code",
   "execution_count": 30,
   "metadata": {
    "scrolled": false
   },
   "outputs": [
    {
     "data": {
      "text/plain": [
       "<seaborn.axisgrid.FacetGrid at 0x1ef27741e48>"
      ]
     },
     "execution_count": 30,
     "metadata": {},
     "output_type": "execute_result"
    },
    {
     "data": {
      "text/plain": [
       "<Figure size 1080x288 with 0 Axes>"
      ]
     },
     "metadata": {},
     "output_type": "display_data"
    },
    {
     "data": {
      "image/png": "[encoded data removed]",
      "text/plain": [
       "<Figure size 432.875x360 with 1 Axes>"
      ]
     },
     "metadata": {
      "needs_background": "light"
     },
     "output_type": "display_data"
    }
   ],
   "source": [
    "plt.figure(figsize = (15,4))\n",
    "sns.relplot(x= 'Height', y= 'Weight', data = joined_df, hue= 'Gender')"
   ]
  },
  {
   "cell_type": "markdown",
   "metadata": {},
   "source": [
    "## Some Initial Investigation\n",
    "\n",
    "Next, slice the DataFrame as needed and visualize the distribution of heights and weights by gender.  You should have 4 total plots.  \n",
    "\n",
    "In the cell below:\n",
    "\n",
    "* Slice the DataFrame into separate DataFrames by gender\n",
    "* Complete the `show_distplot()` function.  This helper function should take in a DataFrame, a string containing the gender we want to visualize, and the column name we want to visualize by gender. The function should display a distplot visualization from seaborn of the column/gender combination.  \n",
    "\n",
    "Hint: Don't forget to check the [seaborn documentation for distplot](https://seaborn.pydata.org/generated/seaborn.distplot.html) if you have questions about how to use it correctly! "
   ]
  },
  {
   "cell_type": "code",
   "execution_count": 31,
   "metadata": {
    "scrolled": false
   },
   "outputs": [],
   "source": [
    "male_heroes_df = joined_df.loc[joined_df['Gender']=='Male']\n",
    "female_heroes_df = joined_df.loc[joined_df['Gender']=='Female']\n",
    "def show_distplot(dataframe, gender, column_name):\n",
    "    if gender == 'Male':\n",
    "        dataframe = male_heroes_df\n",
    "    if gender == 'Female':\n",
    "        dataframe = female_heroes_df\n",
    "    return dataframe.plot(kind='hist', y=column_name)"
   ]
  },
  {
   "cell_type": "code",
   "execution_count": 32,
   "metadata": {
    "scrolled": false
   },
   "outputs": [
    {
     "data": {
      "text/plain": [
       "<matplotlib.axes._subplots.AxesSubplot at 0x1ef27741a20>"
      ]
     },
     "execution_count": 32,
     "metadata": {},
     "output_type": "execute_result"
    },
    {
     "data": {
      "image/png": "[encoded data removed]",
      "text/plain": [
       "<Figure size 432x288 with 1 Axes>"
      ]
     },
     "metadata": {
      "needs_background": "light"
     },
     "output_type": "display_data"
    }
   ],
   "source": [
    "# This is a sample plot of the joined df as a whole. \n",
    "# Since Height and Weight are the only numeric values, it will only plot frequencies by Height and Weight.\n",
    "# This is useful as a sanity check for when multiple plots are developed for the Height and Weight of each character by gender.\n",
    "joined_df.plot(kind='hist')"
   ]
  },
  {
   "cell_type": "code",
   "execution_count": 33,
   "metadata": {
    "scrolled": false
   },
   "outputs": [
    {
     "data": {
      "text/plain": [
       "<matplotlib.axes._subplots.AxesSubplot at 0x1ef27844da0>"
      ]
     },
     "execution_count": 33,
     "metadata": {},
     "output_type": "execute_result"
    },
    {
     "data": {
      "image/png": "[encoded data removed]",
      "text/plain": [
       "<Figure size 432x288 with 1 Axes>"
      ]
     },
     "metadata": {
      "needs_background": "light"
     },
     "output_type": "display_data"
    }
   ],
   "source": [
    "# Male Height\n",
    "show_distplot(joined_df,'Male','Height')"
   ]
  },
  {
   "cell_type": "code",
   "execution_count": 34,
   "metadata": {
    "scrolled": false
   },
   "outputs": [
    {
     "data": {
      "text/plain": [
       "<matplotlib.axes._subplots.AxesSubplot at 0x1ef278d03c8>"
      ]
     },
     "execution_count": 34,
     "metadata": {},
     "output_type": "execute_result"
    },
    {
     "data": {
      "image/png": "[encoded data removed]",
      "text/plain": [
       "<Figure size 432x288 with 1 Axes>"
      ]
     },
     "metadata": {
      "needs_background": "light"
     },
     "output_type": "display_data"
    }
   ],
   "source": [
    "# Male Weight\n",
    "show_distplot(joined_df,'Male','Weight')"
   ]
  },
  {
   "cell_type": "code",
   "execution_count": 35,
   "metadata": {
    "scrolled": false
   },
   "outputs": [
    {
     "data": {
      "text/plain": [
       "<matplotlib.axes._subplots.AxesSubplot at 0x1ef278b24e0>"
      ]
     },
     "execution_count": 35,
     "metadata": {},
     "output_type": "execute_result"
    },
    {
     "data": {
      "image/png": "[encoded data removed]",
      "text/plain": [
       "<Figure size 432x288 with 1 Axes>"
      ]
     },
     "metadata": {
      "needs_background": "light"
     },
     "output_type": "display_data"
    }
   ],
   "source": [
    "# Female Height\n",
    "show_distplot(joined_df,'Female','Height')"
   ]
  },
  {
   "cell_type": "code",
   "execution_count": 36,
   "metadata": {
    "scrolled": false
   },
   "outputs": [
    {
     "data": {
      "text/plain": [
       "<matplotlib.axes._subplots.AxesSubplot at 0x1ef27a00eb8>"
      ]
     },
     "execution_count": 36,
     "metadata": {},
     "output_type": "execute_result"
    },
    {
     "data": {
      "image/png": "[encoded data removed]",
      "text/plain": [
       "<Figure size 432x288 with 1 Axes>"
      ]
     },
     "metadata": {
      "needs_background": "light"
     },
     "output_type": "display_data"
    }
   ],
   "source": [
    "# Female Weight\n",
    "show_distplot(joined_df,'Female','Weight')"
   ]
  },
  {
   "cell_type": "markdown",
   "metadata": {},
   "source": [
    "Determine the measures of central dispersion for both male and female heroes below:"
   ]
  },
  {
   "cell_type": "code",
   "execution_count": 37,
   "metadata": {
    "scrolled": false
   },
   "outputs": [
    {
     "data": {
      "text/html": [
       "<div>\n",
       "<style scoped>\n",
       "    .dataframe tbody tr th:only-of-type {\n",
       "        vertical-align: middle;\n",
       "    }\n",
       "\n",
       "    .dataframe tbody tr th {\n",
       "        vertical-align: top;\n",
       "    }\n",
       "\n",
       "    .dataframe thead th {\n",
       "        text-align: right;\n",
       "    }\n",
       "</style>\n",
       "<table border=\"1\" class=\"dataframe\">\n",
       "  <thead>\n",
       "    <tr style=\"text-align: right;\">\n",
       "      <th></th>\n",
       "      <th>Height</th>\n",
       "      <th>Weight</th>\n",
       "    </tr>\n",
       "  </thead>\n",
       "  <tbody>\n",
       "    <tr>\n",
       "      <td>count</td>\n",
       "      <td>460.000000</td>\n",
       "      <td>460.000000</td>\n",
       "    </tr>\n",
       "    <tr>\n",
       "      <td>mean</td>\n",
       "      <td>190.279783</td>\n",
       "      <td>112.850000</td>\n",
       "    </tr>\n",
       "    <tr>\n",
       "      <td>std</td>\n",
       "      <td>59.775912</td>\n",
       "      <td>97.010552</td>\n",
       "    </tr>\n",
       "    <tr>\n",
       "      <td>min</td>\n",
       "      <td>15.200000</td>\n",
       "      <td>2.000000</td>\n",
       "    </tr>\n",
       "    <tr>\n",
       "      <td>25%</td>\n",
       "      <td>183.000000</td>\n",
       "      <td>81.000000</td>\n",
       "    </tr>\n",
       "    <tr>\n",
       "      <td>50%</td>\n",
       "      <td>183.000000</td>\n",
       "      <td>81.000000</td>\n",
       "    </tr>\n",
       "    <tr>\n",
       "      <td>75%</td>\n",
       "      <td>188.000000</td>\n",
       "      <td>101.000000</td>\n",
       "    </tr>\n",
       "    <tr>\n",
       "      <td>max</td>\n",
       "      <td>975.000000</td>\n",
       "      <td>900.000000</td>\n",
       "    </tr>\n",
       "  </tbody>\n",
       "</table>\n",
       "</div>"
      ],
      "text/plain": [
       "           Height      Weight\n",
       "count  460.000000  460.000000\n",
       "mean   190.279783  112.850000\n",
       "std     59.775912   97.010552\n",
       "min     15.200000    2.000000\n",
       "25%    183.000000   81.000000\n",
       "50%    183.000000   81.000000\n",
       "75%    188.000000  101.000000\n",
       "max    975.000000  900.000000"
      ]
     },
     "execution_count": 37,
     "metadata": {},
     "output_type": "execute_result"
    }
   ],
   "source": [
    "male_heroes_df[['Height','Weight']].describe()"
   ]
  },
  {
   "cell_type": "code",
   "execution_count": 38,
   "metadata": {
    "scrolled": false
   },
   "outputs": [
    {
     "data": {
      "text/html": [
       "<div>\n",
       "<style scoped>\n",
       "    .dataframe tbody tr th:only-of-type {\n",
       "        vertical-align: middle;\n",
       "    }\n",
       "\n",
       "    .dataframe tbody tr th {\n",
       "        vertical-align: top;\n",
       "    }\n",
       "\n",
       "    .dataframe thead th {\n",
       "        text-align: right;\n",
       "    }\n",
       "</style>\n",
       "<table border=\"1\" class=\"dataframe\">\n",
       "  <thead>\n",
       "    <tr style=\"text-align: right;\">\n",
       "      <th></th>\n",
       "      <th>Height</th>\n",
       "      <th>Weight</th>\n",
       "    </tr>\n",
       "  </thead>\n",
       "  <tbody>\n",
       "    <tr>\n",
       "      <td>0</td>\n",
       "      <td>183.0</td>\n",
       "      <td>81.0</td>\n",
       "    </tr>\n",
       "  </tbody>\n",
       "</table>\n",
       "</div>"
      ],
      "text/plain": [
       "   Height  Weight\n",
       "0   183.0    81.0"
      ]
     },
     "execution_count": 38,
     "metadata": {},
     "output_type": "execute_result"
    }
   ],
   "source": [
    "# the most commonly occuring Height/Weight among Male characters is 183/81. \n",
    "#This would be the case since we replaced many placeholders with the median weight (81) and the median height (183)\n",
    "male_heroes_df[['Height','Weight']].mode()"
   ]
  },
  {
   "cell_type": "code",
   "execution_count": 39,
   "metadata": {
    "scrolled": false
   },
   "outputs": [
    {
     "data": {
      "text/html": [
       "<div>\n",
       "<style scoped>\n",
       "    .dataframe tbody tr th:only-of-type {\n",
       "        vertical-align: middle;\n",
       "    }\n",
       "\n",
       "    .dataframe tbody tr th {\n",
       "        vertical-align: top;\n",
       "    }\n",
       "\n",
       "    .dataframe thead th {\n",
       "        text-align: right;\n",
       "    }\n",
       "</style>\n",
       "<table border=\"1\" class=\"dataframe\">\n",
       "  <thead>\n",
       "    <tr style=\"text-align: right;\">\n",
       "      <th></th>\n",
       "      <th>Height</th>\n",
       "      <th>Weight</th>\n",
       "    </tr>\n",
       "  </thead>\n",
       "  <tbody>\n",
       "    <tr>\n",
       "      <td>count</td>\n",
       "      <td>182.000000</td>\n",
       "      <td>182.000000</td>\n",
       "    </tr>\n",
       "    <tr>\n",
       "      <td>mean</td>\n",
       "      <td>176.288462</td>\n",
       "      <td>78.703297</td>\n",
       "    </tr>\n",
       "    <tr>\n",
       "      <td>std</td>\n",
       "      <td>15.896959</td>\n",
       "      <td>61.039068</td>\n",
       "    </tr>\n",
       "    <tr>\n",
       "      <td>min</td>\n",
       "      <td>62.500000</td>\n",
       "      <td>41.000000</td>\n",
       "    </tr>\n",
       "    <tr>\n",
       "      <td>25%</td>\n",
       "      <td>168.000000</td>\n",
       "      <td>55.000000</td>\n",
       "    </tr>\n",
       "    <tr>\n",
       "      <td>50%</td>\n",
       "      <td>175.000000</td>\n",
       "      <td>63.000000</td>\n",
       "    </tr>\n",
       "    <tr>\n",
       "      <td>75%</td>\n",
       "      <td>183.000000</td>\n",
       "      <td>81.000000</td>\n",
       "    </tr>\n",
       "    <tr>\n",
       "      <td>max</td>\n",
       "      <td>297.000000</td>\n",
       "      <td>630.000000</td>\n",
       "    </tr>\n",
       "  </tbody>\n",
       "</table>\n",
       "</div>"
      ],
      "text/plain": [
       "           Height      Weight\n",
       "count  182.000000  182.000000\n",
       "mean   176.288462   78.703297\n",
       "std     15.896959   61.039068\n",
       "min     62.500000   41.000000\n",
       "25%    168.000000   55.000000\n",
       "50%    175.000000   63.000000\n",
       "75%    183.000000   81.000000\n",
       "max    297.000000  630.000000"
      ]
     },
     "execution_count": 39,
     "metadata": {},
     "output_type": "execute_result"
    }
   ],
   "source": [
    "female_heroes_df[['Height','Weight']].describe()"
   ]
  },
  {
   "cell_type": "code",
   "execution_count": 40,
   "metadata": {
    "scrolled": false
   },
   "outputs": [
    {
     "data": {
      "text/html": [
       "<div>\n",
       "<style scoped>\n",
       "    .dataframe tbody tr th:only-of-type {\n",
       "        vertical-align: middle;\n",
       "    }\n",
       "\n",
       "    .dataframe tbody tr th {\n",
       "        vertical-align: top;\n",
       "    }\n",
       "\n",
       "    .dataframe thead th {\n",
       "        text-align: right;\n",
       "    }\n",
       "</style>\n",
       "<table border=\"1\" class=\"dataframe\">\n",
       "  <thead>\n",
       "    <tr style=\"text-align: right;\">\n",
       "      <th></th>\n",
       "      <th>Height</th>\n",
       "      <th>Weight</th>\n",
       "    </tr>\n",
       "  </thead>\n",
       "  <tbody>\n",
       "    <tr>\n",
       "      <td>0</td>\n",
       "      <td>183.0</td>\n",
       "      <td>81.0</td>\n",
       "    </tr>\n",
       "  </tbody>\n",
       "</table>\n",
       "</div>"
      ],
      "text/plain": [
       "   Height  Weight\n",
       "0   183.0    81.0"
      ]
     },
     "execution_count": 40,
     "metadata": {},
     "output_type": "execute_result"
    }
   ],
   "source": [
    "#As was the case with Male characters, the most commonly occuring Height/Weight among Female characters is 183/81. \n",
    "#This would be the case since we replaced many placeholders with the median weight (81) and the median height (183)\n",
    "male_heroes_df[['Height','Weight']].mode()"
   ]
  },
  {
   "cell_type": "markdown",
   "metadata": {},
   "source": [
    "Discuss your findings from the plots above, with respect to the distribution of height and weight by gender.  Your explanation should include a discussion of any relevant summary statistics, including mean, median, mode, and the overall shape of each distribution.  \n",
    "\n",
    "Write your answer below this line:\n",
    "____________________________________________________________________________________________________________________________\n",
    "<p>Based on just the shape of thie histograms, the distribution of Weight is more positively skewed for Male compared to Female characters. Most male characters fall into a weight range between 0 and 200. Most female characters fall into a weight range between 0 and 100. This is born out by both the median and mean Weights of the Male heroes, which are greater than the equivalents for Female heroes.</p>\n",
    "\n",
    "<p>Male characters have a range of Heights between 100 and 300 while Female characters have a range of Heights which are more tightly packed in between 150 and 200.\n",
    "\n",
    "    \n",
    "<p>While the max values for Weight and Height are fantastical (in real world terms) for both Male and Female characters, the min values for Weight and Height are especially implausible in the case of Male characters (when they are compared to Female characters).</p>\n",
    "\n",
    "<p> It is worth nothing here that whilst the mode was determined for both Male and Female characters, the mode is not useful for analysis because the most commonly occuring value for both Weight and Height will correspond to the median value that was used to replace the placeholder -99.0 value for both Height and Weight.</p>"
   ]
  },
  {
   "cell_type": "markdown",
   "metadata": {},
   "source": [
    "### Sample Question: Most Common Powers\n",
    "\n",
    "The rest of this notebook will be left to you to investigate the dataset by formulating your own questions, and then seeking answers using pandas and numpy.  Every answer should include some sort of visualization, when appropriate. Before moving on to formulating your own questions, use the dataset to answer the following questions about superhero powers:\n",
    "\n",
    "* What are the 5 most common powers overall?\n",
    "* What are the 5 most common powers in the Marvel Universe?\n",
    "* What are the 5 most common powers in the DC Universe?"
   ]
  },
  {
   "cell_type": "markdown",
   "metadata": {},
   "source": [
    "## 5 most common powers overall"
   ]
  },
  {
   "cell_type": "code",
   "execution_count": 41,
   "metadata": {
    "scrolled": true
   },
   "outputs": [],
   "source": [
    "#write a function top_5\n",
    "#this will take the dataframe provided, drop all columns except columns where powers are recorded\n",
    "#sum along each power column. Since True = 1 and False = 0, this will just simply count the numbers of True for each power.\n",
    "#the function then returns the top 5 from a sorted descending list, \n",
    "\n",
    "def top_5(dataframe):\n",
    "    df = dataframe.drop(joined_df.columns.values[0:11], axis=1)\n",
    "    powers_dist = {}\n",
    "    for col in df.columns.values:\n",
    "        powers_dist[col] = df[col].sum()\n",
    "    return sorted(powers_dist.items(), key=lambda x: x[1], reverse=True)[:5]"
   ]
  },
  {
   "cell_type": "code",
   "execution_count": 42,
   "metadata": {
    "scrolled": true
   },
   "outputs": [
    {
     "data": {
      "text/plain": [
       "[('Super Strength', 360),\n",
       " ('Stamina', 289),\n",
       " ('Durability', 257),\n",
       " ('Super Speed', 249),\n",
       " ('Agility', 242)]"
      ]
     },
     "execution_count": 42,
     "metadata": {},
     "output_type": "execute_result"
    }
   ],
   "source": [
    "top_5(joined_df)"
   ]
  },
  {
   "cell_type": "markdown",
   "metadata": {},
   "source": [
    "The five most common powers <strong>overall</strong>, in descending order are <strong>'Super Strength', 'Stamina', 'Durability', 'Super Speed', 'Agility'.</strong>"
   ]
  },
  {
   "cell_type": "markdown",
   "metadata": {},
   "source": [
    "## 5 most common powers in the Marvel Universe"
   ]
  },
  {
   "cell_type": "code",
   "execution_count": 44,
   "metadata": {
    "scrolled": false
   },
   "outputs": [
    {
     "data": {
      "text/plain": [
       "[('Super Strength', 203),\n",
       " ('Stamina', 155),\n",
       " ('Durability', 144),\n",
       " ('Agility', 129),\n",
       " ('Super Speed', 129)]"
      ]
     },
     "execution_count": 44,
     "metadata": {},
     "output_type": "execute_result"
    }
   ],
   "source": [
    "#first, create a dataframe of only marvel characters from heroes_df\n",
    "marvel_df = joined_df[joined_df['Publisher'] == 'Marvel Comics']\n",
    "\n",
    "#apply the function to the marvel df\n",
    "top_5(marvel_df)"
   ]
  },
  {
   "cell_type": "markdown",
   "metadata": {},
   "source": [
    "The five most common powers <strong>in the Marvel Universe</strong>, in descending order are <strong>'Super Strength', 'Stamina', 'Durability', 'Agility', 'Super Speed'.</strong> This is the same as the overall result."
   ]
  },
  {
   "cell_type": "markdown",
   "metadata": {},
   "source": [
    "## 5 most common powers in the DC universe"
   ]
  },
  {
   "cell_type": "code",
   "execution_count": 45,
   "metadata": {
    "scrolled": false
   },
   "outputs": [
    {
     "data": {
      "text/plain": [
       "[('Super Strength', 93),\n",
       " ('Stamina', 87),\n",
       " ('Agility', 77),\n",
       " ('Super Speed', 77),\n",
       " ('Durability', 69)]"
      ]
     },
     "execution_count": 45,
     "metadata": {},
     "output_type": "execute_result"
    }
   ],
   "source": [
    "#first, create a dataframe of only DC characters from heroes_df\n",
    "dc_df = joined_df[joined_df['Publisher'] == 'DC Comics']\n",
    "\n",
    "#apply the function to the dc df\n",
    "top_5(dc_df)"
   ]
  },
  {
   "cell_type": "markdown",
   "metadata": {},
   "source": [
    "The five most common powers <strong>in the DC Universe</strong>, in descending order are <strong>'Super Strength', 'Stamina', 'Agility', 'Super Speed','Durability', .</strong> These are the same five powers before previously, but in a slightly different order"
   ]
  },
  {
   "cell_type": "markdown",
   "metadata": {},
   "source": [
    "Analyze the results you found above to answer the following question:\n",
    "\n",
    "How do the top 5 powers in the Marvel and DC universes compare?  Are they similar, or are there significant differences? How do they compare to the overall trends in the entire Superheroes dataset?\n",
    "\n",
    "Write your answer below this line:\n",
    "____________________________________________________________________________________________________________________________\n",
    "The five most common powers in the Marvel universe are the same five powers, in the same descending order as in the overall database. The five most common powers in the DC universe are also the same five powers, but are in a slightly different order.\n",
    "\n",
    "### Your Own Investigation\n",
    "\n",
    "For the remainder of this lab, you'll be focusing on coming up with and answering your own question, just like we did above.  Your question should not be overly simple, and should require both descriptive statistics and data visualization to answer.  In case you're unsure of what questions to ask, some sample questions have been provided below.\n",
    "\n",
    "Pick one of the following questions to investigate and answer, or come up with one of your own!\n",
    "\n",
    "* Which powers have the highest chance of co-occurring in a hero (e.g. super strength and flight), and does this differ by gender?\n",
    "* Is there a relationship between a hero's height and weight and their powerset?\n",
    "* What is the distribution of skin colors amongst alien heroes?\n",
    "\n",
    "Explain your question below this line:\n",
    "____________________________________________________________________________________________________________________________\n",
    "\n",
    "What is the distribution of skin colors amongst alien heroes?\n",
    "\n",
    "Some sample cells have been provided to give you room to work. If you need to create more cells, you can do this easily by:\n",
    "\n",
    "1. Highlighting a cell and then pressing `esc` to enter command mode.\n",
    "1. Pressing `b` to add a cell below the currently highlighted cell, or `a` to add one above it.  \n",
    "\n",
    "Be sure to include thoughtful, well-labeled visualizations to back up your analysis!"
   ]
  },
  {
   "cell_type": "code",
   "execution_count": 295,
   "metadata": {},
   "outputs": [
    {
     "data": {
      "image/png": "[encoded data removed]",
      "text/plain": [
       "<Figure size 1440x1440 with 1 Axes>"
      ]
     },
     "metadata": {
      "needs_background": "light"
     },
     "output_type": "display_data"
    }
   ],
   "source": [
    "# create a dataframe from the joined dataframe. This dataframe will be of non-Human characters, where the skin color is known.\n",
    "alien_skin = joined_df.loc[(joined_df['Race'] != 'Human') & (joined_df['Skin color'] != '-')]\n",
    "\n",
    "# plot a histogram of this datafame\n",
    "plt.figure(figsize = (20,20))\n",
    "plt.title('Distribution of Skin color among non-Human chaaracters')\n",
    "plt.ylabel('Frequency of occurrence')\n",
    "plt.xlabel('Skin color')\n",
    "plt.hist(x = alien_skin['Skin color'], color = 'yellow', bins=np.arange(16)-0.5 , edgecolor = 'black', linewidth = 2, alpha = 0.5)\n",
    "plt.show()"
   ]
  },
  {
   "cell_type": "markdown",
   "metadata": {},
   "source": [
    "## Miscellaneous"
   ]
  },
  {
   "cell_type": "markdown",
   "metadata": {},
   "source": [
    "<p> I initially attempted to solve the question: \"Which powers have the highest chance of co-occurring in a hero (e.g. super strength and flight), and does this differ by gender?\"</p>\n",
    "\n",
    "<p> I decided to move on from that because I got stuck, however, I did write several nifty functions to help navigate the database. I have kept them below. </p>"
   ]
  },
  {
   "cell_type": "code",
   "execution_count": 207,
   "metadata": {
    "scrolled": true
   },
   "outputs": [],
   "source": [
    "# this function plots the correlation between powers for a certain set of characters in a dataframe\n",
    "def pow_corr(dataframe):\n",
    "    df = dataframe.drop(joined_df.columns.values[0:11], axis=1)\n",
    "    data = df[df.columns.values]\n",
    "    return data.corr(method='pearson')"
   ]
  },
  {
   "cell_type": "code",
   "execution_count": 301,
   "metadata": {
    "scrolled": true
   },
   "outputs": [],
   "source": [
    "#write function to list out what are the powers of each character\n",
    "#function returns that list in a dictionary where each character is set against a list of powers\n",
    "\n",
    "def char_powers_dict(dataframe):\n",
    "    rows = list(dataframe.index)\n",
    "    powers_dict = {}\n",
    "    for r in rows:\n",
    "        powers_list = []\n",
    "        char = dataframe.loc[r].to_dict() \n",
    "        for key,value in char.items():\n",
    "            if value == 1:\n",
    "                powers_list.append(key)\n",
    "        powers_dict[dataframe.loc[r][0]] = powers_list\n",
    "    return powers_dict\n",
    "\n",
    "# write a function which returns a character's powers from the joined database and his/her(/its!) name\n",
    "\n",
    "def ind_powers(hero):\n",
    "    p_dict = char_powers_dict(joined_df)\n",
    "    powers = p_dict[hero]\n",
    "    return list(powers)\n",
    "\n",
    "# write a function what would allow one to search for heroes by power given the dataframe and a user-input power\n",
    "# This function will also tell you how many heros have this power.\n",
    "def search_power(dataframe):\n",
    "    power = input('Search for superheros with this power ')\n",
    "    str_power = str(power)\n",
    "    p_dict = char_powers_dict(dataframe)\n",
    "    heroes = []\n",
    "    for k,v in p_dict.items():\n",
    "        if str_power in v:\n",
    "            heroes.append(k)\n",
    "    number = len(heroes)\n",
    "    summary = print('There are {} characters with this power.'.format(number))\n",
    "    return heroes\n",
    "\n",
    "# write a loop that iterates through powers_dict and returns a p_count_dict\n",
    "# this would be a dictionary setting out the number of powers per character\n",
    "def powers_per_hero(dataframe):\n",
    "    p_count_dict = {}\n",
    "    powers_dict = char_powers_dict(dataframe)\n",
    "    for key, value in powers_dict.items():\n",
    "        number = len(value)\n",
    "        p_count_dict[key] = number\n",
    "    return p_count_dict"
   ]
  },
  {
   "cell_type": "code",
   "execution_count": 247,
   "metadata": {
    "scrolled": false
   },
   "outputs": [],
   "source": [
    "# this code takes the power dictionary and sorts the *values* and arranges the dictionary by *values*\n",
    "# this then takes the sorted dictionary and works out the frequency of each combination of powers\n",
    "\n",
    "pow_dict = char_powers_dict(joined_df)\n",
    "sorted_dict = {k: v for k, v in sorted(pow_dict.items(), key=lambda item: item[1])}\n",
    "sorted_list = list(sorted_dict.values())\n",
    "freq = [sorted_list.count(s) for s in sorted_list]\n"
   ]
  },
  {
   "cell_type": "code",
   "execution_count": 186,
   "metadata": {
    "scrolled": true
   },
   "outputs": [
    {
     "data": {
      "text/plain": [
       "True"
      ]
     },
     "execution_count": 186,
     "metadata": {},
     "output_type": "execute_result"
    }
   ],
   "source": [
    "# The ind_powers function can be used to compare powers between heroes in different databases\n",
    "\n",
    "ind_powers('Moloch') == ind_powers('Synch')"
   ]
  },
  {
   "cell_type": "code",
   "execution_count": 303,
   "metadata": {
    "scrolled": true
   },
   "outputs": [
    {
     "data": {
      "text/plain": [
       "['Durability',\n",
       " 'Longevity',\n",
       " 'Intelligence',\n",
       " 'Super Strength',\n",
       " 'Duplication',\n",
       " 'Stamina',\n",
       " 'Enhanced Senses',\n",
       " 'Immortality',\n",
       " 'Invulnerability',\n",
       " 'Self-Sustenance',\n",
       " 'Regeneration',\n",
       " 'Toxin and Disease Resistance',\n",
       " 'Omnilingualism']"
      ]
     },
     "execution_count": 303,
     "metadata": {},
     "output_type": "execute_result"
    }
   ],
   "source": [
    "ind_powers('Kylo Ren')"
   ]
  },
  {
   "cell_type": "markdown",
   "metadata": {},
   "source": [
    "## Summary\n",
    "\n",
    "In this lab, we demonstrated our mastery of:\n",
    "* Using all of our Pandas knowledge to date to clean the dataset and deal with null values\n",
    "* Using Queries and aggregations to group the data into interesting subsets as needed\n",
    "* Using descriptive statistics and data visualization to find answers to questions we may have about the data"
   ]
  }
 ],
 "metadata": {
  "kernelspec": {
   "display_name": "Python 3",
   "language": "python",
   "name": "python3"
  },
  "language_info": {
   "codemirror_mode": {
    "name": "ipython",
    "version": 3
   },
   "file_extension": ".py",
   "mimetype": "text/x-python",
   "name": "python",
   "nbconvert_exporter": "python",
   "pygments_lexer": "ipython3",
   "version": "3.6.9"
  }
 },
 "nbformat": 4,
 "nbformat_minor": 2
}
